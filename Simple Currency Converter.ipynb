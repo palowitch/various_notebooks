{
 "cells": [
  {
   "cell_type": "code",
   "execution_count": 2,
   "metadata": {},
   "outputs": [
    {
     "name": "stdout",
     "output_type": "stream",
     "text": [
      "Convert from: USD\n",
      "Convert to: EUR\n",
      "Amount: 100\n",
      "1 USD = EUR 0.8770391159\n",
      "100.0 USD = EUR 87.70391159\n"
     ]
    }
   ],
   "source": [
    "import requests\n",
    "import json\n",
    "\n",
    "base = input(\"Convert from: \")\n",
    "to = input(\"Convert to: \")\n",
    "amount = float(input(\"Amount: \"))\n",
    "\n",
    "url =\"https://api.exchangeratesapi.io/latest?base=\" + base\n",
    "\n",
    "response = requests.get(url)\n",
    "data = response.text\n",
    "parsed = json.loads(data)\n",
    "rates = parsed[\"rates\"]\n",
    "\n",
    "\n",
    "for currency, rate in rates.items():\n",
    "    if currency == to:\n",
    "        conversion = rate * amount\n",
    "        print(\"1\" , base, \"=\", currency, rate)\n",
    "        print(amount, base, \"=\", currency, conversion)"
   ]
  },
  {
   "cell_type": "code",
   "execution_count": null,
   "metadata": {},
   "outputs": [],
   "source": []
  }
 ],
 "metadata": {
  "kernelspec": {
   "display_name": "Python 3",
   "language": "python",
   "name": "python3"
  },
  "language_info": {
   "codemirror_mode": {
    "name": "ipython",
    "version": 3
   },
   "file_extension": ".py",
   "mimetype": "text/x-python",
   "name": "python",
   "nbconvert_exporter": "python",
   "pygments_lexer": "ipython3",
   "version": "3.7.2"
  }
 },
 "nbformat": 4,
 "nbformat_minor": 2
}
