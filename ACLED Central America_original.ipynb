{
 "cells": [
  {
   "cell_type": "markdown",
   "metadata": {},
   "source": [
    "ACLED Central America data from 01 January 2019 - 07 April 2020\n",
    "Link to ACLED: https://acleddata.com/#/dashboard \n",
    "Information on attribution: https://acleddata.com/acleddatanew/wp-content/uploads/dlm_uploads/2019/07/ACLED_TermsofUseAttributionPolicy_4.2019.pdf"
   ]
  },
  {
   "cell_type": "markdown",
   "metadata": {},
   "source": [
    "# Data Import and Setup"
   ]
  },
  {
   "cell_type": "code",
   "execution_count": 1,
   "metadata": {},
   "outputs": [],
   "source": [
    "#Import packages and create dataframe from csv of data\n",
    "import pandas as pd\n",
    "df = pd.read_csv(r\"sampleACLED.csv\")"
   ]
  },
  {
   "cell_type": "code",
   "execution_count": 2,
   "metadata": {
    "scrolled": false
   },
   "outputs": [
    {
     "data": {
      "text/plain": [
       "['data_id',\n",
       " 'iso',\n",
       " 'event_id_cnty',\n",
       " 'event_id_no_cnty',\n",
       " 'event_date',\n",
       " 'year',\n",
       " 'time_precision',\n",
       " 'event_type',\n",
       " 'sub_event_type',\n",
       " 'actor1',\n",
       " 'assoc_actor_1',\n",
       " 'inter1',\n",
       " 'actor2',\n",
       " 'assoc_actor_2',\n",
       " 'inter2',\n",
       " 'interaction',\n",
       " 'region',\n",
       " 'country',\n",
       " 'admin1',\n",
       " 'admin2',\n",
       " 'admin3',\n",
       " 'location',\n",
       " 'latitude',\n",
       " 'longitude',\n",
       " 'geo_precision',\n",
       " 'source',\n",
       " 'source_scale',\n",
       " 'notes',\n",
       " 'fatalities',\n",
       " 'timestamp',\n",
       " 'iso3']"
      ]
     },
     "execution_count": 2,
     "metadata": {},
     "output_type": "execute_result"
    }
   ],
   "source": [
    "#retrieve list of attribute names\n",
    "list(df)"
   ]
  },
  {
   "cell_type": "code",
   "execution_count": 3,
   "metadata": {
    "scrolled": false
   },
   "outputs": [
    {
     "data": {
      "text/plain": [
       "data_id             368\n",
       "iso                 368\n",
       "event_id_cnty       368\n",
       "event_id_no_cnty    368\n",
       "event_date          368\n",
       "year                368\n",
       "time_precision      368\n",
       "event_type          368\n",
       "sub_event_type      368\n",
       "actor1              368\n",
       "assoc_actor_1        98\n",
       "inter1              368\n",
       "actor2              218\n",
       "assoc_actor_2        44\n",
       "inter2              368\n",
       "interaction         368\n",
       "region              368\n",
       "country             368\n",
       "admin1              368\n",
       "admin2              360\n",
       "admin3               39\n",
       "location            368\n",
       "latitude            368\n",
       "longitude           368\n",
       "geo_precision       368\n",
       "source              368\n",
       "source_scale        368\n",
       "notes               368\n",
       "fatalities          368\n",
       "timestamp           368\n",
       "iso3                368\n",
       "dtype: int64"
      ]
     },
     "execution_count": 3,
     "metadata": {},
     "output_type": "execute_result"
    }
   ],
   "source": [
    "#Retrieve count of records in every attribute in the dataframe\n",
    "df.count()"
   ]
  },
  {
   "cell_type": "markdown",
   "metadata": {},
   "source": [
    "# Basic Counts"
   ]
  },
  {
   "cell_type": "code",
   "execution_count": 4,
   "metadata": {
    "scrolled": true
   },
   "outputs": [
    {
     "data": {
      "text/plain": [
       "event_date\n",
       "10-Jan-19    26\n",
       "10-Mar-20     1\n",
       "10-Nov-19     3\n",
       "11-Jan-19    31\n",
       "12-Feb-20     1\n",
       "12-Jan-19    36\n",
       "13-Jan-19    44\n",
       "13-Mar-20     3\n",
       "13-Nov-19     1\n",
       "14-Jan-19     4\n",
       "14-Nov-19     1\n",
       "15-Mar-20     1\n",
       "15-Nov-19     4\n",
       "16-Mar-20     1\n",
       "16-Nov-19     1\n",
       "17-Feb-20     2\n",
       "17-Mar-20     1\n",
       "18-Feb-20     1\n",
       "18-Mar-20     2\n",
       "18-Nov-19     3\n",
       "19-Feb-20     2\n",
       "19-Nov-19     1\n",
       "2-Mar-20      2\n",
       "20-Feb-20     2\n",
       "20-Nov-19     2\n",
       "21-Feb-20     1\n",
       "21-Mar-20     1\n",
       "21-Nov-19     9\n",
       "22-Feb-20     1\n",
       "22-Nov-19     2\n",
       "23-Nov-19     2\n",
       "24-Feb-20     1\n",
       "27-Jan-20     2\n",
       "28-Feb-20     1\n",
       "28-Jan-20     1\n",
       "29-Feb-20     1\n",
       "29-Jan-20     2\n",
       "3-Apr-20      9\n",
       "3-Feb-20      3\n",
       "3-Mar-20      4\n",
       "30-Jan-20     1\n",
       "4-Apr-20     15\n",
       "4-Feb-20      3\n",
       "4-Mar-20      5\n",
       "5-Feb-20      1\n",
       "5-Mar-20      1\n",
       "6-Mar-20      5\n",
       "7-Feb-20      3\n",
       "7-Jan-19     36\n",
       "7-Mar-20      1\n",
       "8-Jan-19     46\n",
       "8-Mar-20      3\n",
       "9-Feb-20      1\n",
       "9-Jan-19     30\n",
       "9-Mar-20      1\n",
       "Name: data_id, dtype: int64"
      ]
     },
     "execution_count": 4,
     "metadata": {},
     "output_type": "execute_result"
    }
   ],
   "source": [
    "#Count of events by day\n",
    "df_dates = df.groupby('event_date')['data_id'].count()\n",
    "df_dates\n",
    "#df_dates.to_csv(r'C:/Users/Caitlin/OneDrive/ACLED_CentralAmerica/DataVisFiles/CountOfEventsDay.csv') #export csv from df"
   ]
  },
  {
   "cell_type": "code",
   "execution_count": 5,
   "metadata": {},
   "outputs": [
    {
     "data": {
      "text/plain": [
       "country\n",
       "Belize           8\n",
       "Costa Rica       1\n",
       "El Salvador      7\n",
       "Guatemala       10\n",
       "Honduras        15\n",
       "Mexico         272\n",
       "Nicaragua       16\n",
       "Panama          39\n",
       "Name: data_id, dtype: int64"
      ]
     },
     "execution_count": 5,
     "metadata": {},
     "output_type": "execute_result"
    }
   ],
   "source": [
    "#Count of events by country\n",
    "df_country = df.groupby('country')['data_id'].count()\n",
    "df_country\n",
    "#df_country.to_csv(r'C:/Users/Caitlin/OneDrive/ACLED_CentralAmerica/DataVisFiles/CountPerCountry.csv') #export csv from df"
   ]
  },
  {
   "cell_type": "code",
   "execution_count": 6,
   "metadata": {},
   "outputs": [
    {
     "data": {
      "text/plain": [
       "event_type\n",
       "Battles                        39\n",
       "Explosions/Remote violence      1\n",
       "Protests                      142\n",
       "Riots                          20\n",
       "Strategic developments         15\n",
       "Violence against civilians    151\n",
       "Name: data_id, dtype: int64"
      ]
     },
     "execution_count": 6,
     "metadata": {},
     "output_type": "execute_result"
    }
   ],
   "source": [
    "#count of each event type for entire dataset\n",
    "df_eventType = df.groupby('event_type')['data_id'].count()\n",
    "df_eventType"
   ]
  },
  {
   "cell_type": "code",
   "execution_count": 7,
   "metadata": {
    "scrolled": false
   },
   "outputs": [
    {
     "data": {
      "text/plain": [
       "sub_event_type\n",
       "Abduction/forced disappearance        8\n",
       "Armed clash                          39\n",
       "Arrests                               2\n",
       "Attack                              143\n",
       "Change to group/activity              3\n",
       "Grenade                               1\n",
       "Headquarters or base established      1\n",
       "Looting/property destruction          9\n",
       "Mob violence                         11\n",
       "Peaceful protest                    138\n",
       "Protest with intervention             4\n",
       "Violent demonstration                 9\n",
       "Name: data_id, dtype: int64"
      ]
     },
     "execution_count": 7,
     "metadata": {},
     "output_type": "execute_result"
    }
   ],
   "source": [
    "#count of each sub event type for entire dataset\n",
    "df_subEventType = df.groupby('sub_event_type')['data_id'].count()\n",
    "df_subEventType"
   ]
  },
  {
   "cell_type": "code",
   "execution_count": 8,
   "metadata": {},
   "outputs": [
    {
     "data": {
      "text/plain": [
       "geo_precision\n",
       "1    331\n",
       "2     32\n",
       "3      5\n",
       "Name: data_id, dtype: int64"
      ]
     },
     "execution_count": 8,
     "metadata": {},
     "output_type": "execute_result"
    }
   ],
   "source": [
    "#find the distribution of events for the types of geo_precision\n",
    "df_precision = df.groupby('geo_precision')['data_id'].count()\n",
    "df_precision"
   ]
  },
  {
   "cell_type": "markdown",
   "metadata": {},
   "source": [
    "# Finding Anomalies"
   ]
  },
  {
   "cell_type": "code",
   "execution_count": 9,
   "metadata": {},
   "outputs": [
    {
     "name": "stdout",
     "output_type": "stream",
     "text": [
      "11-Jan-19 31\n",
      "12-Jan-19 36\n",
      "13-Jan-19 44\n",
      "7-Jan-19 36\n",
      "8-Jan-19 46\n",
      "9-Jan-19 30\n"
     ]
    }
   ],
   "source": [
    "#find dates that are not \"normal\" i.e. are outside of the mean +/- 2 times the standard deviation\n",
    "#prints a list of dates and number of events\n",
    "import numpy as np\n",
    "mean = df_dates.mean()\n",
    "std = np.std(df_dates)\n",
    "\n",
    "for count, index in zip(df_dates, df_dates.index):\n",
    "    # If the value for the date is less than the mean - 2 times the standard deviation or more than the mean + 2 time the std\n",
    "    if count < (mean - 2*std) or count > (mean + 2*std):\n",
    "        print(str(index).split(\" \")[0], count)"
   ]
  },
  {
   "cell_type": "markdown",
   "metadata": {},
   "source": [
    "# Geo-Precision Levels Analysis"
   ]
  },
  {
   "cell_type": "code",
   "execution_count": 10,
   "metadata": {
    "scrolled": true
   },
   "outputs": [],
   "source": [
    "#subset the geo_precision event records for further analysis \n",
    "df_prec1 = df[df.geo_precision == 1]\n",
    "df_prec2 = df[df.geo_precision == 2]\n",
    "df_prec3 = df[df.geo_precision == 3]"
   ]
  },
  {
   "cell_type": "code",
   "execution_count": 11,
   "metadata": {},
   "outputs": [
    {
     "data": {
      "text/html": [
       "<div>\n",
       "<style scoped>\n",
       "    .dataframe tbody tr th:only-of-type {\n",
       "        vertical-align: middle;\n",
       "    }\n",
       "\n",
       "    .dataframe tbody tr th {\n",
       "        vertical-align: top;\n",
       "    }\n",
       "\n",
       "    .dataframe thead th {\n",
       "        text-align: right;\n",
       "    }\n",
       "</style>\n",
       "<table border=\"1\" class=\"dataframe\">\n",
       "  <thead>\n",
       "    <tr style=\"text-align: right;\">\n",
       "      <th></th>\n",
       "      <th>event_type</th>\n",
       "      <th>count_prec1</th>\n",
       "      <th>count_prec2</th>\n",
       "      <th>count_prec3</th>\n",
       "    </tr>\n",
       "  </thead>\n",
       "  <tbody>\n",
       "    <tr>\n",
       "      <th>0</th>\n",
       "      <td>Protests</td>\n",
       "      <td>136</td>\n",
       "      <td>5</td>\n",
       "      <td>1</td>\n",
       "    </tr>\n",
       "    <tr>\n",
       "      <th>1</th>\n",
       "      <td>Strategic developments</td>\n",
       "      <td>10</td>\n",
       "      <td>2</td>\n",
       "      <td>3</td>\n",
       "    </tr>\n",
       "    <tr>\n",
       "      <th>2</th>\n",
       "      <td>Violence against civilians</td>\n",
       "      <td>132</td>\n",
       "      <td>18</td>\n",
       "      <td>1</td>\n",
       "    </tr>\n",
       "  </tbody>\n",
       "</table>\n",
       "</div>"
      ],
      "text/plain": [
       "                   event_type  count_prec1  count_prec2  count_prec3\n",
       "0                    Protests          136            5            1\n",
       "1      Strategic developments           10            2            3\n",
       "2  Violence against civilians          132           18            1"
      ]
     },
     "execution_count": 11,
     "metadata": {},
     "output_type": "execute_result"
    }
   ],
   "source": [
    "#create grouped dataframes for each precision level by event type\n",
    "#this cell creates a table that shows the number of records for each event type for each geo-precision\n",
    "df_prec1Event = df_prec1.groupby('event_type')['data_id'].count().to_frame(name='count_prec1').reset_index()\n",
    "df_prec2Event = df_prec2.groupby('event_type')['data_id'].count().to_frame(name='count_prec2').reset_index()\n",
    "df_prec3Event = df_prec3.groupby('event_type')['data_id'].count().to_frame(name='count_prec3').reset_index()\n",
    "#merge tables to get count by event type for each spatial precision\n",
    "join1 = df_prec1Event.merge(df_prec2Event)\n",
    "join2 = join1.merge(df_prec3Event)\n",
    "join2\n",
    "#join2.to_csv(r'C:/Users/Caitlin/OneDrive/ACLED_CentralAmerica/DataVisFiles/PrecCountEvents.csv') #export table to csv"
   ]
  },
  {
   "cell_type": "code",
   "execution_count": 12,
   "metadata": {},
   "outputs": [],
   "source": [
    "#TO DO\n",
    "#add a column on the table that calculates the percent of total for each precision level "
   ]
  },
  {
   "cell_type": "code",
   "execution_count": 13,
   "metadata": {},
   "outputs": [
    {
     "data": {
      "text/html": [
       "<div>\n",
       "<style scoped>\n",
       "    .dataframe tbody tr th:only-of-type {\n",
       "        vertical-align: middle;\n",
       "    }\n",
       "\n",
       "    .dataframe tbody tr th {\n",
       "        vertical-align: top;\n",
       "    }\n",
       "\n",
       "    .dataframe thead th {\n",
       "        text-align: right;\n",
       "    }\n",
       "</style>\n",
       "<table border=\"1\" class=\"dataframe\">\n",
       "  <thead>\n",
       "    <tr style=\"text-align: right;\">\n",
       "      <th></th>\n",
       "      <th>country</th>\n",
       "      <th>count_prec1</th>\n",
       "      <th>count_prec2</th>\n",
       "      <th>count_prec3</th>\n",
       "    </tr>\n",
       "  </thead>\n",
       "  <tbody>\n",
       "    <tr>\n",
       "      <th>0</th>\n",
       "      <td>Belize</td>\n",
       "      <td>6</td>\n",
       "      <td>1</td>\n",
       "      <td>1</td>\n",
       "    </tr>\n",
       "    <tr>\n",
       "      <th>1</th>\n",
       "      <td>Mexico</td>\n",
       "      <td>238</td>\n",
       "      <td>30</td>\n",
       "      <td>4</td>\n",
       "    </tr>\n",
       "  </tbody>\n",
       "</table>\n",
       "</div>"
      ],
      "text/plain": [
       "  country  count_prec1  count_prec2  count_prec3\n",
       "0  Belize            6            1            1\n",
       "1  Mexico          238           30            4"
      ]
     },
     "execution_count": 13,
     "metadata": {},
     "output_type": "execute_result"
    }
   ],
   "source": [
    "#create grouped dataframes for each precision level by country\n",
    "#this cell creates a table that shows the number of records for each country for each geo-precision\n",
    "df_prec1Country = df_prec1.groupby('country')['data_id'].count().to_frame(name='count_prec1').reset_index()\n",
    "df_prec2Country = df_prec2.groupby('country')['data_id'].count().to_frame(name='count_prec2').reset_index()\n",
    "df_prec3Country = df_prec3.groupby('country')['data_id'].count().to_frame(name='count_prec3').reset_index()\n",
    "#merge tables to get count by country for each spatial precision\n",
    "join1 = df_prec1Country.merge(df_prec2Country)\n",
    "join22 = join1.merge(df_prec3Country)\n",
    "join22"
   ]
  },
  {
   "cell_type": "code",
   "execution_count": 14,
   "metadata": {},
   "outputs": [],
   "source": [
    "#TO DO\n",
    "#add a column on the table that calculates the percent of total for each precision level "
   ]
  },
  {
   "cell_type": "code",
   "execution_count": 17,
   "metadata": {},
   "outputs": [],
   "source": [
    "#Test for loop to create geo-precision tables for each country\n",
    "master_country_list = []\n",
    "country_list = df.country.unique()\n",
    "for country in country_list:\n",
    "    country_df  = df[df.country==country]\n",
    "    df_prec1 = country_df[country_df.geo_precision == 1]\n",
    "    df_prec2 = country_df[country_df.geo_precision == 2]\n",
    "    df_prec3 = country_df[country_df.geo_precision == 3]\n",
    "    df_prec1Event = df_prec1.groupby('event_type')['data_id'].count().to_frame(name='count_prec1').reset_index()\n",
    "    df_prec2Event = df_prec2.groupby('event_type')['data_id'].count().to_frame(name='count_prec2').reset_index()\n",
    "    df_prec3Event = df_prec3.groupby('event_type')['data_id'].count().to_frame(name='count_prec3').reset_index()\n",
    "    join1 = df_prec1Event.merge(df_prec2Event)\n",
    "    join2 = join1.merge(df_prec3Event)\n",
    "    join2\n",
    "    master_country_list.append(country_df)"
   ]
  },
  {
   "cell_type": "code",
   "execution_count": 18,
   "metadata": {},
   "outputs": [
    {
     "data": {
      "text/plain": [
       "8"
      ]
     },
     "execution_count": 18,
     "metadata": {},
     "output_type": "execute_result"
    }
   ],
   "source": [
    "len(master_country_list)"
   ]
  },
  {
   "cell_type": "code",
   "execution_count": 19,
   "metadata": {},
   "outputs": [
    {
     "name": "stdout",
     "output_type": "stream",
     "text": [
      "['Costa Rica' 'El Salvador' 'Honduras' 'Mexico' 'Panama' 'Belize'\n",
      " 'Guatemala' 'Nicaragua']\n"
     ]
    }
   ],
   "source": [
    "print(country_list)"
   ]
  },
  {
   "cell_type": "markdown",
   "metadata": {},
   "source": [
    "# Analysis of Null Attributes/Levels of Nulls"
   ]
  },
  {
   "cell_type": "code",
   "execution_count": 15,
   "metadata": {},
   "outputs": [
    {
     "data": {
      "text/plain": [
       "data_id             21249\n",
       "iso                 21249\n",
       "event_id_cnty       21249\n",
       "event_id_no_cnty    21249\n",
       "event_date          21249\n",
       "year                21249\n",
       "time_precision      21249\n",
       "event_type          21249\n",
       "sub_event_type      21249\n",
       "actor1              21249\n",
       "assoc_actor_1        6405\n",
       "inter1              21249\n",
       "actor2              13273\n",
       "assoc_actor_2        3170\n",
       "inter2              21249\n",
       "interaction         21249\n",
       "region              21249\n",
       "country             21249\n",
       "admin1              21249\n",
       "admin2              21138\n",
       "admin3                411\n",
       "location            21249\n",
       "latitude            21249\n",
       "longitude           21249\n",
       "geo_precision       21249\n",
       "source              21249\n",
       "source_scale        21249\n",
       "notes               21249\n",
       "fatalities          21249\n",
       "timestamp           21249\n",
       "iso3                21249\n",
       "dtype: int64"
      ]
     },
     "execution_count": 15,
     "metadata": {},
     "output_type": "execute_result"
    }
   ],
   "source": [
    "df.count()"
   ]
  },
  {
   "cell_type": "code",
   "execution_count": null,
   "metadata": {},
   "outputs": [],
   "source": [
    "#TO DO\n",
    "#build chart from counts above\n",
    "#add attribute to chart with percent of nulls"
   ]
  },
  {
   "cell_type": "markdown",
   "metadata": {},
   "source": [
    "# Paired Attributes"
   ]
  },
  {
   "cell_type": "code",
   "execution_count": null,
   "metadata": {},
   "outputs": [],
   "source": [
    "#TO DO\n",
    "#Analysis of paired attributes\n",
    "#pair one: event type and geo-precision\n",
    "#pair two: sub-event type and geo-precision\n",
    "#pair three: event type and sub-event type\n",
    "#pair four: actor1 and event type\n",
    "#pair five: actor1 and sub-event type"
   ]
  },
  {
   "cell_type": "markdown",
   "metadata": {},
   "source": [
    "# By Country Analysis - Mexico"
   ]
  },
  {
   "cell_type": "code",
   "execution_count": 16,
   "metadata": {},
   "outputs": [],
   "source": [
    "#mexico analysis - create the dataframe\n",
    "df_mexico = df[df.country=='Mexico']"
   ]
  },
  {
   "cell_type": "code",
   "execution_count": 19,
   "metadata": {},
   "outputs": [],
   "source": [
    "#Count of events by day in Mexico\n",
    "df_datesMex = df_mexico.groupby('event_date')['data_id'].count()\n",
    "#df_datesMex\n",
    "df_dates.to_csv(r'C:/Users/Caitlin/OneDrive/ACLED_CentralAmerica/DataVisFiles/CountOfEventsDayMexico.csv') #export csv from df\n",
    "#TO DO\n",
    "#Find way to calculate which days have no records (maybe use a sort by date)"
   ]
  },
  {
   "cell_type": "code",
   "execution_count": 22,
   "metadata": {},
   "outputs": [
    {
     "name": "stdout",
     "output_type": "stream",
     "text": [
      "1-May-19 72\n",
      "10-Apr-19 84\n",
      "18-Feb-20 68\n",
      "21-Dec-19 11\n",
      "8-Aug-19 78\n",
      "8-Feb-19 108\n",
      "8-Mar-20 95\n"
     ]
    }
   ],
   "source": [
    "#find dates that are not \"normal\" i.e. are outside of the mean +/- 2 times the standard deviation\n",
    "#prints a list of dates and number of events for Mexico dataset specifically\n",
    "meanMex = df_datesMex.mean()\n",
    "stdMex = np.std(df_datesMex)\n",
    "\n",
    "for count, index in zip(df_datesMex, df_datesMex.index):\n",
    "    # If the value for the date is less than the mean - 2 times the standard deviation or more than the mean + 2 time the std\n",
    "    if count < (meanMex - 2*stdMex) or count > (meanMex + 2*std):\n",
    "        print(str(index).split(\" \")[0], count)"
   ]
  },
  {
   "cell_type": "code",
   "execution_count": 20,
   "metadata": {},
   "outputs": [
    {
     "data": {
      "text/plain": [
       "event_type\n",
       "Battles                       1887\n",
       "Explosions/Remote violence      16\n",
       "Protests                      6163\n",
       "Riots                         1002\n",
       "Strategic developments         493\n",
       "Violence against civilians    7204\n",
       "Name: data_id, dtype: int64"
      ]
     },
     "execution_count": 20,
     "metadata": {},
     "output_type": "execute_result"
    }
   ],
   "source": [
    "#count of each event type for Mexico\n",
    "df_eventTypeMex = df_mexico.groupby('event_type')['data_id'].count()\n",
    "df_eventTypeMex\n",
    "#TO DO\n",
    "#Add column with percent of Mexico dataset"
   ]
  },
  {
   "cell_type": "code",
   "execution_count": 21,
   "metadata": {
    "scrolled": true
   },
   "outputs": [
    {
     "data": {
      "text/plain": [
       "sub_event_type\n",
       "Abduction/forced disappearance         277\n",
       "Armed clash                           1887\n",
       "Arrests                                173\n",
       "Attack                                6865\n",
       "Change to group/activity                68\n",
       "Disrupted weapons use                   12\n",
       "Excessive force against protesters       5\n",
       "Grenade                                  6\n",
       "Headquarters or base established         3\n",
       "Looting/property destruction           160\n",
       "Mob violence                           659\n",
       "Other                                   77\n",
       "Peaceful protest                      6050\n",
       "Protest with intervention              108\n",
       "Remote explosive/landmine/IED           10\n",
       "Sexual violence                         62\n",
       "Violent demonstration                  343\n",
       "Name: data_id, dtype: int64"
      ]
     },
     "execution_count": 21,
     "metadata": {},
     "output_type": "execute_result"
    }
   ],
   "source": [
    "#count of each sub event type for Mexico\n",
    "df_subEventTypeMex = df_mexico.groupby('sub_event_type')['data_id'].count()\n",
    "df_subEventTypeMex\n",
    "#TO DO\n",
    "#Add column with percent of Mexico dataset"
   ]
  }
 ],
 "metadata": {
  "kernelspec": {
   "display_name": "Python 3",
   "language": "python",
   "name": "python3"
  },
  "language_info": {
   "codemirror_mode": {
    "name": "ipython",
    "version": 3
   },
   "file_extension": ".py",
   "mimetype": "text/x-python",
   "name": "python",
   "nbconvert_exporter": "python",
   "pygments_lexer": "ipython3",
   "version": "3.7.6"
  }
 },
 "nbformat": 4,
 "nbformat_minor": 4
}
