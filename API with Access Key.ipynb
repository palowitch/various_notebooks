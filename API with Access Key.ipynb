{
 "cells": [
  {
   "cell_type": "code",
   "execution_count": 1,
   "metadata": {},
   "outputs": [
    {
     "name": "stdout",
     "output_type": "stream",
     "text": [
      "On 2019-01-20 EUR equals 0.88358 GBP\n",
      "On 2019-01-20 EUR equals 1.136732 USD\n"
     ]
    }
   ],
   "source": [
    "import requests\n",
    "import json\n",
    " \n",
    "url = \"http://data.fixer.io/api/latest?access_key=2e2ad0279a868be4b14fac42f369ccb7&symbols=USD,GBP\"\n",
    " \n",
    "response = requests.get(url)\n",
    "data = response.text\n",
    "parsed = json.loads(data)\n",
    "date = parsed[\"date\"]\n",
    " \n",
    "gbp_rate = parsed[\"rates\"][\"GBP\"]\n",
    "usd_rate = parsed[\"rates\"][\"USD\"]\n",
    "print(\"On \" + date + \" EUR equals \" + str(gbp_rate) + \" GBP\")\n",
    "print(\"On \" + date + \" EUR equals \" + str(usd_rate) + \" USD\")"
   ]
  },
  {
   "cell_type": "code",
   "execution_count": null,
   "metadata": {},
   "outputs": [],
   "source": []
  }
 ],
 "metadata": {
  "kernelspec": {
   "display_name": "Python 3",
   "language": "python",
   "name": "python3"
  },
  "language_info": {
   "codemirror_mode": {
    "name": "ipython",
    "version": 3
   },
   "file_extension": ".py",
   "mimetype": "text/x-python",
   "name": "python",
   "nbconvert_exporter": "python",
   "pygments_lexer": "ipython3",
   "version": "3.7.2"
  }
 },
 "nbformat": 4,
 "nbformat_minor": 2
}
