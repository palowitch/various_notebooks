{
 "cells": [
  {
   "cell_type": "markdown",
   "metadata": {},
   "source": [
    "ACLED Central America data from 01 January 2019 - 07 April 2020\n",
    "Link to ACLED: https://acleddata.com/#/dashboard \n",
    "Information on attribution: https://acleddata.com/acleddatanew/wp-content/uploads/dlm_uploads/2019/07/ACLED_TermsofUseAttributionPolicy_4.2019.pdf"
   ]
  },
  {
   "cell_type": "markdown",
   "metadata": {},
   "source": [
    "#### Library code I usually keep on top to check/confirm libraries and environments"
   ]
  },
  {
   "cell_type": "code",
   "execution_count": 3,
   "metadata": {},
   "outputs": [],
   "source": [
    "#!pip list\n",
    "#pip install\n",
    "#!conda env list\n",
    "#!conda activate <env name>"
   ]
  },
  {
   "cell_type": "markdown",
   "metadata": {},
   "source": [
    "# 1) Data Import and Basic Exploration"
   ]
  },
  {
   "cell_type": "markdown",
   "metadata": {},
   "source": [
    "#### Main libraries used in this notebook are pandas, numpy, and seaborn. Always keep together to keep track so you aren't calling your libraries different names.\n",
    "\n",
    "- Second block is a neat addition to show all the columns when printing the DF. Just run one time and it saves the options. Uncomment if you want more rows, but might make notebook super long"
   ]
  },
  {
   "cell_type": "code",
   "execution_count": 1,
   "metadata": {},
   "outputs": [],
   "source": [
    "import pandas as pd\n",
    "import numpy as np\n",
    "import seaborn as sns\n",
    "\n",
    "pd.set_option('display.max_columns', 500)\n",
    "pd.set_option('display.width', 1000)\n",
    "#pd.set_option('display.max_rows', 500)"
   ]
  },
  {
   "cell_type": "markdown",
   "metadata": {},
   "source": [
    "#### Optional: import of the time library. Has code there to put before and after code to time it."
   ]
  },
  {
   "cell_type": "code",
   "execution_count": 6,
   "metadata": {},
   "outputs": [
    {
     "name": "stdout",
     "output_type": "stream",
     "text": [
      "1590766849.8818705\n"
     ]
    }
   ],
   "source": [
    "import time\n",
    "print(time.time())\n",
    "\n",
    "#start_time = time.time()\n",
    "#print(\"michael\")\n",
    "#print(\"Time using code: {} sec\".format(time.time() - start_time))"
   ]
  },
  {
   "cell_type": "markdown",
   "metadata": {},
   "source": [
    "#### Initial read-in of ACLED CSV\n",
    "- Make sure your path is correct"
   ]
  },
  {
   "cell_type": "code",
   "execution_count": 7,
   "metadata": {},
   "outputs": [],
   "source": [
    "path = r\"sampleACLED.csv\"\n",
    "df = pd.read_csv(path)"
   ]
  },
  {
   "cell_type": "markdown",
   "metadata": {},
   "source": [
    "#### Get size of table.\n",
    "- df.shape returns a tuple, so you can use each individually."
   ]
  },
  {
   "cell_type": "code",
   "execution_count": 8,
   "metadata": {},
   "outputs": [
    {
     "name": "stdout",
     "output_type": "stream",
     "text": [
      "The dataframe has 368 Rows and 31 Columns.\n"
     ]
    }
   ],
   "source": [
    "#df.shape\n",
    "print(\"The dataframe has {} Rows and {} Columns.\".format(df.shape[0], df.shape[1]))"
   ]
  },
  {
   "cell_type": "markdown",
   "metadata": {},
   "source": [
    "#### View dataframe to make sure the csv was read in correct.\n",
    "\n",
    "- Notice if you scroll Right/Left you can see all 31 columns. (from the earlier commands pd.set_option('display.max_columns', 500) and pd.set_option('display.width', 1000))"
   ]
  },
  {
   "cell_type": "code",
   "execution_count": 9,
   "metadata": {},
   "outputs": [
    {
     "data": {
      "text/html": [
       "<div>\n",
       "<style scoped>\n",
       "    .dataframe tbody tr th:only-of-type {\n",
       "        vertical-align: middle;\n",
       "    }\n",
       "\n",
       "    .dataframe tbody tr th {\n",
       "        vertical-align: top;\n",
       "    }\n",
       "\n",
       "    .dataframe thead th {\n",
       "        text-align: right;\n",
       "    }\n",
       "</style>\n",
       "<table border=\"1\" class=\"dataframe\">\n",
       "  <thead>\n",
       "    <tr style=\"text-align: right;\">\n",
       "      <th></th>\n",
       "      <th>data_id</th>\n",
       "      <th>iso</th>\n",
       "      <th>event_id_cnty</th>\n",
       "      <th>event_id_no_cnty</th>\n",
       "      <th>event_date</th>\n",
       "      <th>year</th>\n",
       "      <th>time_precision</th>\n",
       "      <th>event_type</th>\n",
       "      <th>sub_event_type</th>\n",
       "      <th>actor1</th>\n",
       "      <th>assoc_actor_1</th>\n",
       "      <th>inter1</th>\n",
       "      <th>actor2</th>\n",
       "      <th>assoc_actor_2</th>\n",
       "      <th>inter2</th>\n",
       "      <th>interaction</th>\n",
       "      <th>region</th>\n",
       "      <th>country</th>\n",
       "      <th>admin1</th>\n",
       "      <th>admin2</th>\n",
       "      <th>admin3</th>\n",
       "      <th>location</th>\n",
       "      <th>latitude</th>\n",
       "      <th>longitude</th>\n",
       "      <th>geo_precision</th>\n",
       "      <th>source</th>\n",
       "      <th>source_scale</th>\n",
       "      <th>notes</th>\n",
       "      <th>fatalities</th>\n",
       "      <th>timestamp</th>\n",
       "      <th>iso3</th>\n",
       "    </tr>\n",
       "  </thead>\n",
       "  <tbody>\n",
       "    <tr>\n",
       "      <th>0</th>\n",
       "      <td>7030381</td>\n",
       "      <td>188</td>\n",
       "      <td>CRI320</td>\n",
       "      <td>320</td>\n",
       "      <td>4-Apr-20</td>\n",
       "      <td>2020</td>\n",
       "      <td>1</td>\n",
       "      <td>Protests</td>\n",
       "      <td>Peaceful protest</td>\n",
       "      <td>Protesters (Costa Rica)</td>\n",
       "      <td>NaN</td>\n",
       "      <td>6</td>\n",
       "      <td>NaN</td>\n",
       "      <td>NaN</td>\n",
       "      <td>0</td>\n",
       "      <td>60</td>\n",
       "      <td>Central America</td>\n",
       "      <td>Costa Rica</td>\n",
       "      <td>Puntarenas</td>\n",
       "      <td>Puntarenas</td>\n",
       "      <td>NaN</td>\n",
       "      <td>Puntarenas</td>\n",
       "      <td>9.9763</td>\n",
       "      <td>-84.8384</td>\n",
       "      <td>1</td>\n",
       "      <td>La Prensa Libre (Costa Rica)</td>\n",
       "      <td>National</td>\n",
       "      <td>On 4 April 2020, in Puntarenas (Puntarenas), a...</td>\n",
       "      <td>0</td>\n",
       "      <td>1586202169</td>\n",
       "      <td>CRI</td>\n",
       "    </tr>\n",
       "    <tr>\n",
       "      <th>1</th>\n",
       "      <td>7030293</td>\n",
       "      <td>222</td>\n",
       "      <td>SLV971</td>\n",
       "      <td>971</td>\n",
       "      <td>3-Apr-20</td>\n",
       "      <td>2020</td>\n",
       "      <td>1</td>\n",
       "      <td>Protests</td>\n",
       "      <td>Peaceful protest</td>\n",
       "      <td>Protesters (El Salvador)</td>\n",
       "      <td>Labour Group (El Salvador); SITTOJ: Union for ...</td>\n",
       "      <td>6</td>\n",
       "      <td>NaN</td>\n",
       "      <td>NaN</td>\n",
       "      <td>0</td>\n",
       "      <td>60</td>\n",
       "      <td>Central America</td>\n",
       "      <td>El Salvador</td>\n",
       "      <td>San Salvador</td>\n",
       "      <td>San Salvador</td>\n",
       "      <td>NaN</td>\n",
       "      <td>San Salvador</td>\n",
       "      <td>13.6894</td>\n",
       "      <td>-89.1872</td>\n",
       "      <td>1</td>\n",
       "      <td>El Mundo (El Salvador)</td>\n",
       "      <td>National</td>\n",
       "      <td>On 3 April 2020, in San Salvador (San Salvador...</td>\n",
       "      <td>0</td>\n",
       "      <td>1586202168</td>\n",
       "      <td>SLV</td>\n",
       "    </tr>\n",
       "    <tr>\n",
       "      <th>2</th>\n",
       "      <td>7030454</td>\n",
       "      <td>340</td>\n",
       "      <td>HND1518</td>\n",
       "      <td>1518</td>\n",
       "      <td>4-Apr-20</td>\n",
       "      <td>2020</td>\n",
       "      <td>2</td>\n",
       "      <td>Violence against civilians</td>\n",
       "      <td>Attack</td>\n",
       "      <td>Unidentified Armed Group (Honduras)</td>\n",
       "      <td>NaN</td>\n",
       "      <td>3</td>\n",
       "      <td>Civilians (Honduras)</td>\n",
       "      <td>NaN</td>\n",
       "      <td>7</td>\n",
       "      <td>37</td>\n",
       "      <td>Central America</td>\n",
       "      <td>Honduras</td>\n",
       "      <td>Francisco Morazan</td>\n",
       "      <td>Distrito Central</td>\n",
       "      <td>NaN</td>\n",
       "      <td>Tegucigalpa</td>\n",
       "      <td>14.0818</td>\n",
       "      <td>-87.2068</td>\n",
       "      <td>1</td>\n",
       "      <td>Proceso Digital</td>\n",
       "      <td>National</td>\n",
       "      <td>On 4 April 2020, in Tegucigalpa, a male corpse...</td>\n",
       "      <td>1</td>\n",
       "      <td>1586202169</td>\n",
       "      <td>HND</td>\n",
       "    </tr>\n",
       "  </tbody>\n",
       "</table>\n",
       "</div>"
      ],
      "text/plain": [
       "   data_id  iso event_id_cnty  event_id_no_cnty event_date  year  time_precision                  event_type    sub_event_type                               actor1                                      assoc_actor_1  inter1                actor2 assoc_actor_2  inter2  interaction           region      country             admin1            admin2 admin3      location  latitude  longitude  geo_precision                        source source_scale                                              notes  fatalities   timestamp iso3\n",
       "0  7030381  188        CRI320               320   4-Apr-20  2020               1                    Protests  Peaceful protest              Protesters (Costa Rica)                                                NaN       6                   NaN           NaN       0           60  Central America   Costa Rica         Puntarenas        Puntarenas    NaN    Puntarenas    9.9763   -84.8384              1  La Prensa Libre (Costa Rica)     National  On 4 April 2020, in Puntarenas (Puntarenas), a...           0  1586202169  CRI\n",
       "1  7030293  222        SLV971               971   3-Apr-20  2020               1                    Protests  Peaceful protest             Protesters (El Salvador)  Labour Group (El Salvador); SITTOJ: Union for ...       6                   NaN           NaN       0           60  Central America  El Salvador       San Salvador      San Salvador    NaN  San Salvador   13.6894   -89.1872              1        El Mundo (El Salvador)     National  On 3 April 2020, in San Salvador (San Salvador...           0  1586202168  SLV\n",
       "2  7030454  340       HND1518              1518   4-Apr-20  2020               2  Violence against civilians            Attack  Unidentified Armed Group (Honduras)                                                NaN       3  Civilians (Honduras)           NaN       7           37  Central America     Honduras  Francisco Morazan  Distrito Central    NaN   Tegucigalpa   14.0818   -87.2068              1               Proceso Digital     National  On 4 April 2020, in Tegucigalpa, a male corpse...           1  1586202169  HND"
      ]
     },
     "execution_count": 9,
     "metadata": {},
     "output_type": "execute_result"
    }
   ],
   "source": [
    "df.head(3)"
   ]
  },
  {
   "cell_type": "markdown",
   "metadata": {},
   "source": [
    "#### 4 different ways to find the  dataframe column names.\n",
    "- There are multiple ways to do almost everything in pandas. Use what helps you the most moving forward, or if it is a one step action, then use the simplest."
   ]
  },
  {
   "cell_type": "code",
   "execution_count": 10,
   "metadata": {
    "scrolled": false
   },
   "outputs": [
    {
     "name": "stdout",
     "output_type": "stream",
     "text": [
      "Index(['data_id', 'iso', 'event_id_cnty', 'event_id_no_cnty', 'event_date', 'year', 'time_precision', 'event_type', 'sub_event_type', 'actor1', 'assoc_actor_1', 'inter1', 'actor2', 'assoc_actor_2', 'inter2', 'interaction', 'region', 'country', 'admin1', 'admin2', 'admin3', 'location', 'latitude', 'longitude', 'geo_precision', 'source', 'source_scale', 'notes', 'fatalities', 'timestamp', 'iso3'], dtype='object')\n"
     ]
    }
   ],
   "source": [
    "#1)\n",
    "print(df.columns)\n",
    "#2)\n",
    "#print(list(df))\n",
    "#3)\n",
    "#cols = [print(col) for col in df.columns]\n",
    "#4)\n",
    "#sorted(df)"
   ]
  },
  {
   "cell_type": "markdown",
   "metadata": {},
   "source": [
    "#### Describe: Using df.describe() to see general information\n",
    "- If you call normal df.describe() it only provides numeric fields."
   ]
  },
  {
   "cell_type": "code",
   "execution_count": 11,
   "metadata": {
    "scrolled": true
   },
   "outputs": [
    {
     "data": {
      "text/html": [
       "<div>\n",
       "<style scoped>\n",
       "    .dataframe tbody tr th:only-of-type {\n",
       "        vertical-align: middle;\n",
       "    }\n",
       "\n",
       "    .dataframe tbody tr th {\n",
       "        vertical-align: top;\n",
       "    }\n",
       "\n",
       "    .dataframe thead th {\n",
       "        text-align: right;\n",
       "    }\n",
       "</style>\n",
       "<table border=\"1\" class=\"dataframe\">\n",
       "  <thead>\n",
       "    <tr style=\"text-align: right;\">\n",
       "      <th></th>\n",
       "      <th>data_id</th>\n",
       "      <th>iso</th>\n",
       "      <th>event_id_no_cnty</th>\n",
       "      <th>year</th>\n",
       "      <th>time_precision</th>\n",
       "      <th>inter1</th>\n",
       "      <th>inter2</th>\n",
       "      <th>interaction</th>\n",
       "      <th>latitude</th>\n",
       "      <th>longitude</th>\n",
       "      <th>geo_precision</th>\n",
       "      <th>fatalities</th>\n",
       "      <th>timestamp</th>\n",
       "    </tr>\n",
       "  </thead>\n",
       "  <tbody>\n",
       "    <tr>\n",
       "      <th>count</th>\n",
       "      <td>3.680000e+02</td>\n",
       "      <td>368.000000</td>\n",
       "      <td>368.000000</td>\n",
       "      <td>368.000000</td>\n",
       "      <td>368.000000</td>\n",
       "      <td>368.000000</td>\n",
       "      <td>368.000000</td>\n",
       "      <td>368.000000</td>\n",
       "      <td>368.000000</td>\n",
       "      <td>368.000000</td>\n",
       "      <td>368.000000</td>\n",
       "      <td>368.000000</td>\n",
       "      <td>3.680000e+02</td>\n",
       "    </tr>\n",
       "    <tr>\n",
       "      <th>mean</th>\n",
       "      <td>6.962237e+06</td>\n",
       "      <td>473.747283</td>\n",
       "      <td>1236.394022</td>\n",
       "      <td>2019.233696</td>\n",
       "      <td>1.182065</td>\n",
       "      <td>4.198370</td>\n",
       "      <td>3.394022</td>\n",
       "      <td>43.372283</td>\n",
       "      <td>19.023808</td>\n",
       "      <td>-96.898448</td>\n",
       "      <td>1.114130</td>\n",
       "      <td>0.771739</td>\n",
       "      <td>1.583224e+09</td>\n",
       "    </tr>\n",
       "    <tr>\n",
       "      <th>std</th>\n",
       "      <td>2.442887e+04</td>\n",
       "      <td>89.253145</td>\n",
       "      <td>3631.355257</td>\n",
       "      <td>0.423757</td>\n",
       "      <td>0.400278</td>\n",
       "      <td>1.555967</td>\n",
       "      <td>3.312048</td>\n",
       "      <td>15.381435</td>\n",
       "      <td>5.750051</td>\n",
       "      <td>9.054363</td>\n",
       "      <td>0.358648</td>\n",
       "      <td>1.935490</td>\n",
       "      <td>9.533360e+05</td>\n",
       "    </tr>\n",
       "    <tr>\n",
       "      <th>min</th>\n",
       "      <td>6.926003e+06</td>\n",
       "      <td>84.000000</td>\n",
       "      <td>103.000000</td>\n",
       "      <td>2019.000000</td>\n",
       "      <td>1.000000</td>\n",
       "      <td>1.000000</td>\n",
       "      <td>0.000000</td>\n",
       "      <td>10.000000</td>\n",
       "      <td>7.960800</td>\n",
       "      <td>-117.019000</td>\n",
       "      <td>1.000000</td>\n",
       "      <td>0.000000</td>\n",
       "      <td>1.582840e+09</td>\n",
       "    </tr>\n",
       "    <tr>\n",
       "      <th>25%</th>\n",
       "      <td>6.943890e+06</td>\n",
       "      <td>484.000000</td>\n",
       "      <td>274.750000</td>\n",
       "      <td>2019.000000</td>\n",
       "      <td>1.000000</td>\n",
       "      <td>3.000000</td>\n",
       "      <td>0.000000</td>\n",
       "      <td>37.000000</td>\n",
       "      <td>16.754000</td>\n",
       "      <td>-101.555325</td>\n",
       "      <td>1.000000</td>\n",
       "      <td>0.000000</td>\n",
       "      <td>1.582840e+09</td>\n",
       "    </tr>\n",
       "    <tr>\n",
       "      <th>50%</th>\n",
       "      <td>6.959325e+06</td>\n",
       "      <td>484.000000</td>\n",
       "      <td>364.000000</td>\n",
       "      <td>2019.000000</td>\n",
       "      <td>1.000000</td>\n",
       "      <td>3.000000</td>\n",
       "      <td>3.000000</td>\n",
       "      <td>37.000000</td>\n",
       "      <td>19.290900</td>\n",
       "      <td>-99.139500</td>\n",
       "      <td>1.000000</td>\n",
       "      <td>0.000000</td>\n",
       "      <td>1.582840e+09</td>\n",
       "    </tr>\n",
       "    <tr>\n",
       "      <th>75%</th>\n",
       "      <td>6.968618e+06</td>\n",
       "      <td>484.000000</td>\n",
       "      <td>418.250000</td>\n",
       "      <td>2019.000000</td>\n",
       "      <td>1.000000</td>\n",
       "      <td>6.000000</td>\n",
       "      <td>7.000000</td>\n",
       "      <td>60.000000</td>\n",
       "      <td>20.913525</td>\n",
       "      <td>-89.340725</td>\n",
       "      <td>1.000000</td>\n",
       "      <td>1.000000</td>\n",
       "      <td>1.582840e+09</td>\n",
       "    </tr>\n",
       "    <tr>\n",
       "      <th>max</th>\n",
       "      <td>7.030462e+06</td>\n",
       "      <td>591.000000</td>\n",
       "      <td>16766.000000</td>\n",
       "      <td>2020.000000</td>\n",
       "      <td>3.000000</td>\n",
       "      <td>6.000000</td>\n",
       "      <td>8.000000</td>\n",
       "      <td>60.000000</td>\n",
       "      <td>32.641200</td>\n",
       "      <td>-77.765400</td>\n",
       "      <td>3.000000</td>\n",
       "      <td>24.000000</td>\n",
       "      <td>1.586202e+09</td>\n",
       "    </tr>\n",
       "  </tbody>\n",
       "</table>\n",
       "</div>"
      ],
      "text/plain": [
       "            data_id         iso  event_id_no_cnty         year  time_precision      inter1      inter2  interaction    latitude   longitude  geo_precision  fatalities     timestamp\n",
       "count  3.680000e+02  368.000000        368.000000   368.000000      368.000000  368.000000  368.000000   368.000000  368.000000  368.000000     368.000000  368.000000  3.680000e+02\n",
       "mean   6.962237e+06  473.747283       1236.394022  2019.233696        1.182065    4.198370    3.394022    43.372283   19.023808  -96.898448       1.114130    0.771739  1.583224e+09\n",
       "std    2.442887e+04   89.253145       3631.355257     0.423757        0.400278    1.555967    3.312048    15.381435    5.750051    9.054363       0.358648    1.935490  9.533360e+05\n",
       "min    6.926003e+06   84.000000        103.000000  2019.000000        1.000000    1.000000    0.000000    10.000000    7.960800 -117.019000       1.000000    0.000000  1.582840e+09\n",
       "25%    6.943890e+06  484.000000        274.750000  2019.000000        1.000000    3.000000    0.000000    37.000000   16.754000 -101.555325       1.000000    0.000000  1.582840e+09\n",
       "50%    6.959325e+06  484.000000        364.000000  2019.000000        1.000000    3.000000    3.000000    37.000000   19.290900  -99.139500       1.000000    0.000000  1.582840e+09\n",
       "75%    6.968618e+06  484.000000        418.250000  2019.000000        1.000000    6.000000    7.000000    60.000000   20.913525  -89.340725       1.000000    1.000000  1.582840e+09\n",
       "max    7.030462e+06  591.000000      16766.000000  2020.000000        3.000000    6.000000    8.000000    60.000000   32.641200  -77.765400       3.000000   24.000000  1.586202e+09"
      ]
     },
     "execution_count": 11,
     "metadata": {},
     "output_type": "execute_result"
    }
   ],
   "source": [
    "df.describe()"
   ]
  },
  {
   "cell_type": "markdown",
   "metadata": {},
   "source": [
    "- If you call df.describe(include=[np.object]) it only gives you string fields.\n",
    "\n",
    "- But you'll notice, that it gives categorical aggregations rather than numerical. This can easily show you Top is most frequent, and freq is how many times."
   ]
  },
  {
   "cell_type": "code",
   "execution_count": 12,
   "metadata": {},
   "outputs": [
    {
     "data": {
      "text/html": [
       "<div>\n",
       "<style scoped>\n",
       "    .dataframe tbody tr th:only-of-type {\n",
       "        vertical-align: middle;\n",
       "    }\n",
       "\n",
       "    .dataframe tbody tr th {\n",
       "        vertical-align: top;\n",
       "    }\n",
       "\n",
       "    .dataframe thead th {\n",
       "        text-align: right;\n",
       "    }\n",
       "</style>\n",
       "<table border=\"1\" class=\"dataframe\">\n",
       "  <thead>\n",
       "    <tr style=\"text-align: right;\">\n",
       "      <th></th>\n",
       "      <th>event_id_cnty</th>\n",
       "      <th>event_date</th>\n",
       "      <th>event_type</th>\n",
       "      <th>sub_event_type</th>\n",
       "      <th>actor1</th>\n",
       "      <th>assoc_actor_1</th>\n",
       "      <th>actor2</th>\n",
       "      <th>assoc_actor_2</th>\n",
       "      <th>region</th>\n",
       "      <th>country</th>\n",
       "      <th>admin1</th>\n",
       "      <th>admin2</th>\n",
       "      <th>admin3</th>\n",
       "      <th>location</th>\n",
       "      <th>source</th>\n",
       "      <th>source_scale</th>\n",
       "      <th>notes</th>\n",
       "      <th>iso3</th>\n",
       "    </tr>\n",
       "  </thead>\n",
       "  <tbody>\n",
       "    <tr>\n",
       "      <th>count</th>\n",
       "      <td>368</td>\n",
       "      <td>368</td>\n",
       "      <td>368</td>\n",
       "      <td>368</td>\n",
       "      <td>368</td>\n",
       "      <td>98</td>\n",
       "      <td>218</td>\n",
       "      <td>44</td>\n",
       "      <td>368</td>\n",
       "      <td>368</td>\n",
       "      <td>368</td>\n",
       "      <td>360</td>\n",
       "      <td>39</td>\n",
       "      <td>368</td>\n",
       "      <td>368</td>\n",
       "      <td>368</td>\n",
       "      <td>368</td>\n",
       "      <td>368</td>\n",
       "    </tr>\n",
       "    <tr>\n",
       "      <th>unique</th>\n",
       "      <td>368</td>\n",
       "      <td>55</td>\n",
       "      <td>6</td>\n",
       "      <td>12</td>\n",
       "      <td>37</td>\n",
       "      <td>42</td>\n",
       "      <td>28</td>\n",
       "      <td>28</td>\n",
       "      <td>1</td>\n",
       "      <td>8</td>\n",
       "      <td>56</td>\n",
       "      <td>176</td>\n",
       "      <td>18</td>\n",
       "      <td>194</td>\n",
       "      <td>82</td>\n",
       "      <td>5</td>\n",
       "      <td>368</td>\n",
       "      <td>8</td>\n",
       "    </tr>\n",
       "    <tr>\n",
       "      <th>top</th>\n",
       "      <td>PAN401</td>\n",
       "      <td>8-Jan-19</td>\n",
       "      <td>Violence against civilians</td>\n",
       "      <td>Attack</td>\n",
       "      <td>Unidentified Armed Group (Mexico)</td>\n",
       "      <td>Labour Group (Mexico)</td>\n",
       "      <td>Civilians (Mexico)</td>\n",
       "      <td>Labour Group (Mexico)</td>\n",
       "      <td>Central America</td>\n",
       "      <td>Mexico</td>\n",
       "      <td>Guerrero</td>\n",
       "      <td>Acapulco de Juarez</td>\n",
       "      <td>Bella Vista</td>\n",
       "      <td>Acapulco de Juarez</td>\n",
       "      <td>Critica (Panama)</td>\n",
       "      <td>National</td>\n",
       "      <td>On 10 January 2019, in Tepeaca, Puebla, there ...</td>\n",
       "      <td>MEX</td>\n",
       "    </tr>\n",
       "    <tr>\n",
       "      <th>freq</th>\n",
       "      <td>1</td>\n",
       "      <td>46</td>\n",
       "      <td>151</td>\n",
       "      <td>143</td>\n",
       "      <td>85</td>\n",
       "      <td>27</td>\n",
       "      <td>137</td>\n",
       "      <td>7</td>\n",
       "      <td>368</td>\n",
       "      <td>272</td>\n",
       "      <td>29</td>\n",
       "      <td>17</td>\n",
       "      <td>10</td>\n",
       "      <td>16</td>\n",
       "      <td>19</td>\n",
       "      <td>259</td>\n",
       "      <td>1</td>\n",
       "      <td>272</td>\n",
       "    </tr>\n",
       "  </tbody>\n",
       "</table>\n",
       "</div>"
      ],
      "text/plain": [
       "       event_id_cnty event_date                  event_type sub_event_type                             actor1          assoc_actor_1              actor2          assoc_actor_2           region country    admin1              admin2       admin3            location            source source_scale                                              notes iso3\n",
       "count            368        368                         368            368                                368                     98                 218                     44              368     368       368                 360           39                 368               368          368                                                368  368\n",
       "unique           368         55                           6             12                                 37                     42                  28                     28                1       8        56                 176           18                 194                82            5                                                368    8\n",
       "top           PAN401   8-Jan-19  Violence against civilians         Attack  Unidentified Armed Group (Mexico)  Labour Group (Mexico)  Civilians (Mexico)  Labour Group (Mexico)  Central America  Mexico  Guerrero  Acapulco de Juarez  Bella Vista  Acapulco de Juarez  Critica (Panama)     National  On 10 January 2019, in Tepeaca, Puebla, there ...  MEX\n",
       "freq               1         46                         151            143                                 85                     27                 137                      7              368     272        29                  17           10                  16                19          259                                                  1  272"
      ]
     },
     "execution_count": 12,
     "metadata": {},
     "output_type": "execute_result"
    }
   ],
   "source": [
    "df.describe(include=[np.object])"
   ]
  },
  {
   "cell_type": "markdown",
   "metadata": {},
   "source": [
    "- If you call df.describe(include='all') provides summary statisics for all columns.\n",
    "\n",
    "- An aggregate of the two above describes."
   ]
  },
  {
   "cell_type": "code",
   "execution_count": 13,
   "metadata": {},
   "outputs": [
    {
     "data": {
      "text/html": [
       "<div>\n",
       "<style scoped>\n",
       "    .dataframe tbody tr th:only-of-type {\n",
       "        vertical-align: middle;\n",
       "    }\n",
       "\n",
       "    .dataframe tbody tr th {\n",
       "        vertical-align: top;\n",
       "    }\n",
       "\n",
       "    .dataframe thead th {\n",
       "        text-align: right;\n",
       "    }\n",
       "</style>\n",
       "<table border=\"1\" class=\"dataframe\">\n",
       "  <thead>\n",
       "    <tr style=\"text-align: right;\">\n",
       "      <th></th>\n",
       "      <th>data_id</th>\n",
       "      <th>iso</th>\n",
       "      <th>event_id_cnty</th>\n",
       "      <th>event_id_no_cnty</th>\n",
       "      <th>event_date</th>\n",
       "      <th>year</th>\n",
       "      <th>time_precision</th>\n",
       "      <th>event_type</th>\n",
       "      <th>sub_event_type</th>\n",
       "      <th>actor1</th>\n",
       "      <th>assoc_actor_1</th>\n",
       "      <th>inter1</th>\n",
       "      <th>actor2</th>\n",
       "      <th>assoc_actor_2</th>\n",
       "      <th>inter2</th>\n",
       "      <th>interaction</th>\n",
       "      <th>region</th>\n",
       "      <th>country</th>\n",
       "      <th>admin1</th>\n",
       "      <th>admin2</th>\n",
       "      <th>admin3</th>\n",
       "      <th>location</th>\n",
       "      <th>latitude</th>\n",
       "      <th>longitude</th>\n",
       "      <th>geo_precision</th>\n",
       "      <th>source</th>\n",
       "      <th>source_scale</th>\n",
       "      <th>notes</th>\n",
       "      <th>fatalities</th>\n",
       "      <th>timestamp</th>\n",
       "      <th>iso3</th>\n",
       "    </tr>\n",
       "  </thead>\n",
       "  <tbody>\n",
       "    <tr>\n",
       "      <th>count</th>\n",
       "      <td>3.680000e+02</td>\n",
       "      <td>368.000000</td>\n",
       "      <td>368</td>\n",
       "      <td>368.000000</td>\n",
       "      <td>368</td>\n",
       "      <td>368.000000</td>\n",
       "      <td>368.000000</td>\n",
       "      <td>368</td>\n",
       "      <td>368</td>\n",
       "      <td>368</td>\n",
       "      <td>98</td>\n",
       "      <td>368.000000</td>\n",
       "      <td>218</td>\n",
       "      <td>44</td>\n",
       "      <td>368.000000</td>\n",
       "      <td>368.000000</td>\n",
       "      <td>368</td>\n",
       "      <td>368</td>\n",
       "      <td>368</td>\n",
       "      <td>360</td>\n",
       "      <td>39</td>\n",
       "      <td>368</td>\n",
       "      <td>368.000000</td>\n",
       "      <td>368.000000</td>\n",
       "      <td>368.000000</td>\n",
       "      <td>368</td>\n",
       "      <td>368</td>\n",
       "      <td>368</td>\n",
       "      <td>368.000000</td>\n",
       "      <td>3.680000e+02</td>\n",
       "      <td>368</td>\n",
       "    </tr>\n",
       "    <tr>\n",
       "      <th>unique</th>\n",
       "      <td>NaN</td>\n",
       "      <td>NaN</td>\n",
       "      <td>368</td>\n",
       "      <td>NaN</td>\n",
       "      <td>55</td>\n",
       "      <td>NaN</td>\n",
       "      <td>NaN</td>\n",
       "      <td>6</td>\n",
       "      <td>12</td>\n",
       "      <td>37</td>\n",
       "      <td>42</td>\n",
       "      <td>NaN</td>\n",
       "      <td>28</td>\n",
       "      <td>28</td>\n",
       "      <td>NaN</td>\n",
       "      <td>NaN</td>\n",
       "      <td>1</td>\n",
       "      <td>8</td>\n",
       "      <td>56</td>\n",
       "      <td>176</td>\n",
       "      <td>18</td>\n",
       "      <td>194</td>\n",
       "      <td>NaN</td>\n",
       "      <td>NaN</td>\n",
       "      <td>NaN</td>\n",
       "      <td>82</td>\n",
       "      <td>5</td>\n",
       "      <td>368</td>\n",
       "      <td>NaN</td>\n",
       "      <td>NaN</td>\n",
       "      <td>8</td>\n",
       "    </tr>\n",
       "    <tr>\n",
       "      <th>top</th>\n",
       "      <td>NaN</td>\n",
       "      <td>NaN</td>\n",
       "      <td>PAN401</td>\n",
       "      <td>NaN</td>\n",
       "      <td>8-Jan-19</td>\n",
       "      <td>NaN</td>\n",
       "      <td>NaN</td>\n",
       "      <td>Violence against civilians</td>\n",
       "      <td>Attack</td>\n",
       "      <td>Unidentified Armed Group (Mexico)</td>\n",
       "      <td>Labour Group (Mexico)</td>\n",
       "      <td>NaN</td>\n",
       "      <td>Civilians (Mexico)</td>\n",
       "      <td>Labour Group (Mexico)</td>\n",
       "      <td>NaN</td>\n",
       "      <td>NaN</td>\n",
       "      <td>Central America</td>\n",
       "      <td>Mexico</td>\n",
       "      <td>Guerrero</td>\n",
       "      <td>Acapulco de Juarez</td>\n",
       "      <td>Bella Vista</td>\n",
       "      <td>Acapulco de Juarez</td>\n",
       "      <td>NaN</td>\n",
       "      <td>NaN</td>\n",
       "      <td>NaN</td>\n",
       "      <td>Critica (Panama)</td>\n",
       "      <td>National</td>\n",
       "      <td>On 10 January 2019, in Tepeaca, Puebla, there ...</td>\n",
       "      <td>NaN</td>\n",
       "      <td>NaN</td>\n",
       "      <td>MEX</td>\n",
       "    </tr>\n",
       "    <tr>\n",
       "      <th>freq</th>\n",
       "      <td>NaN</td>\n",
       "      <td>NaN</td>\n",
       "      <td>1</td>\n",
       "      <td>NaN</td>\n",
       "      <td>46</td>\n",
       "      <td>NaN</td>\n",
       "      <td>NaN</td>\n",
       "      <td>151</td>\n",
       "      <td>143</td>\n",
       "      <td>85</td>\n",
       "      <td>27</td>\n",
       "      <td>NaN</td>\n",
       "      <td>137</td>\n",
       "      <td>7</td>\n",
       "      <td>NaN</td>\n",
       "      <td>NaN</td>\n",
       "      <td>368</td>\n",
       "      <td>272</td>\n",
       "      <td>29</td>\n",
       "      <td>17</td>\n",
       "      <td>10</td>\n",
       "      <td>16</td>\n",
       "      <td>NaN</td>\n",
       "      <td>NaN</td>\n",
       "      <td>NaN</td>\n",
       "      <td>19</td>\n",
       "      <td>259</td>\n",
       "      <td>1</td>\n",
       "      <td>NaN</td>\n",
       "      <td>NaN</td>\n",
       "      <td>272</td>\n",
       "    </tr>\n",
       "    <tr>\n",
       "      <th>mean</th>\n",
       "      <td>6.962237e+06</td>\n",
       "      <td>473.747283</td>\n",
       "      <td>NaN</td>\n",
       "      <td>1236.394022</td>\n",
       "      <td>NaN</td>\n",
       "      <td>2019.233696</td>\n",
       "      <td>1.182065</td>\n",
       "      <td>NaN</td>\n",
       "      <td>NaN</td>\n",
       "      <td>NaN</td>\n",
       "      <td>NaN</td>\n",
       "      <td>4.198370</td>\n",
       "      <td>NaN</td>\n",
       "      <td>NaN</td>\n",
       "      <td>3.394022</td>\n",
       "      <td>43.372283</td>\n",
       "      <td>NaN</td>\n",
       "      <td>NaN</td>\n",
       "      <td>NaN</td>\n",
       "      <td>NaN</td>\n",
       "      <td>NaN</td>\n",
       "      <td>NaN</td>\n",
       "      <td>19.023808</td>\n",
       "      <td>-96.898448</td>\n",
       "      <td>1.114130</td>\n",
       "      <td>NaN</td>\n",
       "      <td>NaN</td>\n",
       "      <td>NaN</td>\n",
       "      <td>0.771739</td>\n",
       "      <td>1.583224e+09</td>\n",
       "      <td>NaN</td>\n",
       "    </tr>\n",
       "    <tr>\n",
       "      <th>std</th>\n",
       "      <td>2.442887e+04</td>\n",
       "      <td>89.253145</td>\n",
       "      <td>NaN</td>\n",
       "      <td>3631.355257</td>\n",
       "      <td>NaN</td>\n",
       "      <td>0.423757</td>\n",
       "      <td>0.400278</td>\n",
       "      <td>NaN</td>\n",
       "      <td>NaN</td>\n",
       "      <td>NaN</td>\n",
       "      <td>NaN</td>\n",
       "      <td>1.555967</td>\n",
       "      <td>NaN</td>\n",
       "      <td>NaN</td>\n",
       "      <td>3.312048</td>\n",
       "      <td>15.381435</td>\n",
       "      <td>NaN</td>\n",
       "      <td>NaN</td>\n",
       "      <td>NaN</td>\n",
       "      <td>NaN</td>\n",
       "      <td>NaN</td>\n",
       "      <td>NaN</td>\n",
       "      <td>5.750051</td>\n",
       "      <td>9.054363</td>\n",
       "      <td>0.358648</td>\n",
       "      <td>NaN</td>\n",
       "      <td>NaN</td>\n",
       "      <td>NaN</td>\n",
       "      <td>1.935490</td>\n",
       "      <td>9.533360e+05</td>\n",
       "      <td>NaN</td>\n",
       "    </tr>\n",
       "    <tr>\n",
       "      <th>min</th>\n",
       "      <td>6.926003e+06</td>\n",
       "      <td>84.000000</td>\n",
       "      <td>NaN</td>\n",
       "      <td>103.000000</td>\n",
       "      <td>NaN</td>\n",
       "      <td>2019.000000</td>\n",
       "      <td>1.000000</td>\n",
       "      <td>NaN</td>\n",
       "      <td>NaN</td>\n",
       "      <td>NaN</td>\n",
       "      <td>NaN</td>\n",
       "      <td>1.000000</td>\n",
       "      <td>NaN</td>\n",
       "      <td>NaN</td>\n",
       "      <td>0.000000</td>\n",
       "      <td>10.000000</td>\n",
       "      <td>NaN</td>\n",
       "      <td>NaN</td>\n",
       "      <td>NaN</td>\n",
       "      <td>NaN</td>\n",
       "      <td>NaN</td>\n",
       "      <td>NaN</td>\n",
       "      <td>7.960800</td>\n",
       "      <td>-117.019000</td>\n",
       "      <td>1.000000</td>\n",
       "      <td>NaN</td>\n",
       "      <td>NaN</td>\n",
       "      <td>NaN</td>\n",
       "      <td>0.000000</td>\n",
       "      <td>1.582840e+09</td>\n",
       "      <td>NaN</td>\n",
       "    </tr>\n",
       "    <tr>\n",
       "      <th>25%</th>\n",
       "      <td>6.943890e+06</td>\n",
       "      <td>484.000000</td>\n",
       "      <td>NaN</td>\n",
       "      <td>274.750000</td>\n",
       "      <td>NaN</td>\n",
       "      <td>2019.000000</td>\n",
       "      <td>1.000000</td>\n",
       "      <td>NaN</td>\n",
       "      <td>NaN</td>\n",
       "      <td>NaN</td>\n",
       "      <td>NaN</td>\n",
       "      <td>3.000000</td>\n",
       "      <td>NaN</td>\n",
       "      <td>NaN</td>\n",
       "      <td>0.000000</td>\n",
       "      <td>37.000000</td>\n",
       "      <td>NaN</td>\n",
       "      <td>NaN</td>\n",
       "      <td>NaN</td>\n",
       "      <td>NaN</td>\n",
       "      <td>NaN</td>\n",
       "      <td>NaN</td>\n",
       "      <td>16.754000</td>\n",
       "      <td>-101.555325</td>\n",
       "      <td>1.000000</td>\n",
       "      <td>NaN</td>\n",
       "      <td>NaN</td>\n",
       "      <td>NaN</td>\n",
       "      <td>0.000000</td>\n",
       "      <td>1.582840e+09</td>\n",
       "      <td>NaN</td>\n",
       "    </tr>\n",
       "    <tr>\n",
       "      <th>50%</th>\n",
       "      <td>6.959325e+06</td>\n",
       "      <td>484.000000</td>\n",
       "      <td>NaN</td>\n",
       "      <td>364.000000</td>\n",
       "      <td>NaN</td>\n",
       "      <td>2019.000000</td>\n",
       "      <td>1.000000</td>\n",
       "      <td>NaN</td>\n",
       "      <td>NaN</td>\n",
       "      <td>NaN</td>\n",
       "      <td>NaN</td>\n",
       "      <td>3.000000</td>\n",
       "      <td>NaN</td>\n",
       "      <td>NaN</td>\n",
       "      <td>3.000000</td>\n",
       "      <td>37.000000</td>\n",
       "      <td>NaN</td>\n",
       "      <td>NaN</td>\n",
       "      <td>NaN</td>\n",
       "      <td>NaN</td>\n",
       "      <td>NaN</td>\n",
       "      <td>NaN</td>\n",
       "      <td>19.290900</td>\n",
       "      <td>-99.139500</td>\n",
       "      <td>1.000000</td>\n",
       "      <td>NaN</td>\n",
       "      <td>NaN</td>\n",
       "      <td>NaN</td>\n",
       "      <td>0.000000</td>\n",
       "      <td>1.582840e+09</td>\n",
       "      <td>NaN</td>\n",
       "    </tr>\n",
       "    <tr>\n",
       "      <th>75%</th>\n",
       "      <td>6.968618e+06</td>\n",
       "      <td>484.000000</td>\n",
       "      <td>NaN</td>\n",
       "      <td>418.250000</td>\n",
       "      <td>NaN</td>\n",
       "      <td>2019.000000</td>\n",
       "      <td>1.000000</td>\n",
       "      <td>NaN</td>\n",
       "      <td>NaN</td>\n",
       "      <td>NaN</td>\n",
       "      <td>NaN</td>\n",
       "      <td>6.000000</td>\n",
       "      <td>NaN</td>\n",
       "      <td>NaN</td>\n",
       "      <td>7.000000</td>\n",
       "      <td>60.000000</td>\n",
       "      <td>NaN</td>\n",
       "      <td>NaN</td>\n",
       "      <td>NaN</td>\n",
       "      <td>NaN</td>\n",
       "      <td>NaN</td>\n",
       "      <td>NaN</td>\n",
       "      <td>20.913525</td>\n",
       "      <td>-89.340725</td>\n",
       "      <td>1.000000</td>\n",
       "      <td>NaN</td>\n",
       "      <td>NaN</td>\n",
       "      <td>NaN</td>\n",
       "      <td>1.000000</td>\n",
       "      <td>1.582840e+09</td>\n",
       "      <td>NaN</td>\n",
       "    </tr>\n",
       "    <tr>\n",
       "      <th>max</th>\n",
       "      <td>7.030462e+06</td>\n",
       "      <td>591.000000</td>\n",
       "      <td>NaN</td>\n",
       "      <td>16766.000000</td>\n",
       "      <td>NaN</td>\n",
       "      <td>2020.000000</td>\n",
       "      <td>3.000000</td>\n",
       "      <td>NaN</td>\n",
       "      <td>NaN</td>\n",
       "      <td>NaN</td>\n",
       "      <td>NaN</td>\n",
       "      <td>6.000000</td>\n",
       "      <td>NaN</td>\n",
       "      <td>NaN</td>\n",
       "      <td>8.000000</td>\n",
       "      <td>60.000000</td>\n",
       "      <td>NaN</td>\n",
       "      <td>NaN</td>\n",
       "      <td>NaN</td>\n",
       "      <td>NaN</td>\n",
       "      <td>NaN</td>\n",
       "      <td>NaN</td>\n",
       "      <td>32.641200</td>\n",
       "      <td>-77.765400</td>\n",
       "      <td>3.000000</td>\n",
       "      <td>NaN</td>\n",
       "      <td>NaN</td>\n",
       "      <td>NaN</td>\n",
       "      <td>24.000000</td>\n",
       "      <td>1.586202e+09</td>\n",
       "      <td>NaN</td>\n",
       "    </tr>\n",
       "  </tbody>\n",
       "</table>\n",
       "</div>"
      ],
      "text/plain": [
       "             data_id         iso event_id_cnty  event_id_no_cnty event_date         year  time_precision                  event_type sub_event_type                             actor1          assoc_actor_1      inter1              actor2          assoc_actor_2      inter2  interaction           region country    admin1              admin2       admin3            location    latitude   longitude  geo_precision            source source_scale                                              notes  fatalities     timestamp iso3\n",
       "count   3.680000e+02  368.000000           368        368.000000        368   368.000000      368.000000                         368            368                                368                     98  368.000000                 218                     44  368.000000   368.000000              368     368       368                 360           39                 368  368.000000  368.000000     368.000000               368          368                                                368  368.000000  3.680000e+02  368\n",
       "unique           NaN         NaN           368               NaN         55          NaN             NaN                           6             12                                 37                     42         NaN                  28                     28         NaN          NaN                1       8        56                 176           18                 194         NaN         NaN            NaN                82            5                                                368         NaN           NaN    8\n",
       "top              NaN         NaN        PAN401               NaN   8-Jan-19          NaN             NaN  Violence against civilians         Attack  Unidentified Armed Group (Mexico)  Labour Group (Mexico)         NaN  Civilians (Mexico)  Labour Group (Mexico)         NaN          NaN  Central America  Mexico  Guerrero  Acapulco de Juarez  Bella Vista  Acapulco de Juarez         NaN         NaN            NaN  Critica (Panama)     National  On 10 January 2019, in Tepeaca, Puebla, there ...         NaN           NaN  MEX\n",
       "freq             NaN         NaN             1               NaN         46          NaN             NaN                         151            143                                 85                     27         NaN                 137                      7         NaN          NaN              368     272        29                  17           10                  16         NaN         NaN            NaN                19          259                                                  1         NaN           NaN  272\n",
       "mean    6.962237e+06  473.747283           NaN       1236.394022        NaN  2019.233696        1.182065                         NaN            NaN                                NaN                    NaN    4.198370                 NaN                    NaN    3.394022    43.372283              NaN     NaN       NaN                 NaN          NaN                 NaN   19.023808  -96.898448       1.114130               NaN          NaN                                                NaN    0.771739  1.583224e+09  NaN\n",
       "std     2.442887e+04   89.253145           NaN       3631.355257        NaN     0.423757        0.400278                         NaN            NaN                                NaN                    NaN    1.555967                 NaN                    NaN    3.312048    15.381435              NaN     NaN       NaN                 NaN          NaN                 NaN    5.750051    9.054363       0.358648               NaN          NaN                                                NaN    1.935490  9.533360e+05  NaN\n",
       "min     6.926003e+06   84.000000           NaN        103.000000        NaN  2019.000000        1.000000                         NaN            NaN                                NaN                    NaN    1.000000                 NaN                    NaN    0.000000    10.000000              NaN     NaN       NaN                 NaN          NaN                 NaN    7.960800 -117.019000       1.000000               NaN          NaN                                                NaN    0.000000  1.582840e+09  NaN\n",
       "25%     6.943890e+06  484.000000           NaN        274.750000        NaN  2019.000000        1.000000                         NaN            NaN                                NaN                    NaN    3.000000                 NaN                    NaN    0.000000    37.000000              NaN     NaN       NaN                 NaN          NaN                 NaN   16.754000 -101.555325       1.000000               NaN          NaN                                                NaN    0.000000  1.582840e+09  NaN\n",
       "50%     6.959325e+06  484.000000           NaN        364.000000        NaN  2019.000000        1.000000                         NaN            NaN                                NaN                    NaN    3.000000                 NaN                    NaN    3.000000    37.000000              NaN     NaN       NaN                 NaN          NaN                 NaN   19.290900  -99.139500       1.000000               NaN          NaN                                                NaN    0.000000  1.582840e+09  NaN\n",
       "75%     6.968618e+06  484.000000           NaN        418.250000        NaN  2019.000000        1.000000                         NaN            NaN                                NaN                    NaN    6.000000                 NaN                    NaN    7.000000    60.000000              NaN     NaN       NaN                 NaN          NaN                 NaN   20.913525  -89.340725       1.000000               NaN          NaN                                                NaN    1.000000  1.582840e+09  NaN\n",
       "max     7.030462e+06  591.000000           NaN      16766.000000        NaN  2020.000000        3.000000                         NaN            NaN                                NaN                    NaN    6.000000                 NaN                    NaN    8.000000    60.000000              NaN     NaN       NaN                 NaN          NaN                 NaN   32.641200  -77.765400       3.000000               NaN          NaN                                                NaN   24.000000  1.586202e+09  NaN"
      ]
     },
     "execution_count": 13,
     "metadata": {},
     "output_type": "execute_result"
    }
   ],
   "source": [
    "df.describe(include='all')"
   ]
  },
  {
   "cell_type": "markdown",
   "metadata": {},
   "source": [
    "#### Basic Counts\n",
    "- Retrieve count of records in every attribute in the dataframe. Same as the 'count' row in the String Describe."
   ]
  },
  {
   "cell_type": "code",
   "execution_count": 14,
   "metadata": {},
   "outputs": [
    {
     "data": {
      "text/plain": [
       "data_id             368\n",
       "iso                 368\n",
       "event_id_cnty       368\n",
       "event_id_no_cnty    368\n",
       "event_date          368\n",
       "year                368\n",
       "time_precision      368\n",
       "event_type          368\n",
       "sub_event_type      368\n",
       "actor1              368\n",
       "assoc_actor_1        98\n",
       "inter1              368\n",
       "actor2              218\n",
       "assoc_actor_2        44\n",
       "inter2              368\n",
       "interaction         368\n",
       "region              368\n",
       "country             368\n",
       "admin1              368\n",
       "admin2              360\n",
       "admin3               39\n",
       "location            368\n",
       "latitude            368\n",
       "longitude           368\n",
       "geo_precision       368\n",
       "source              368\n",
       "source_scale        368\n",
       "notes               368\n",
       "fatalities          368\n",
       "timestamp           368\n",
       "iso3                368\n",
       "dtype: int64"
      ]
     },
     "execution_count": 14,
     "metadata": {},
     "output_type": "execute_result"
    }
   ],
   "source": [
    "df.count()"
   ]
  },
  {
   "cell_type": "markdown",
   "metadata": {},
   "source": [
    "#### Using groupby() to get counts of events by column\n",
    "\n",
    "- Event Date"
   ]
  },
  {
   "cell_type": "code",
   "execution_count": 15,
   "metadata": {
    "scrolled": true
   },
   "outputs": [
    {
     "data": {
      "text/plain": [
       "event_date\n",
       "10-Jan-19    26\n",
       "10-Mar-20     1\n",
       "10-Nov-19     3\n",
       "11-Jan-19    31\n",
       "12-Feb-20     1\n",
       "12-Jan-19    36\n",
       "13-Jan-19    44\n",
       "13-Mar-20     3\n",
       "13-Nov-19     1\n",
       "14-Jan-19     4\n",
       "14-Nov-19     1\n",
       "15-Mar-20     1\n",
       "15-Nov-19     4\n",
       "16-Mar-20     1\n",
       "16-Nov-19     1\n",
       "17-Feb-20     2\n",
       "17-Mar-20     1\n",
       "18-Feb-20     1\n",
       "18-Mar-20     2\n",
       "18-Nov-19     3\n",
       "19-Feb-20     2\n",
       "19-Nov-19     1\n",
       "2-Mar-20      2\n",
       "20-Feb-20     2\n",
       "20-Nov-19     2\n",
       "21-Feb-20     1\n",
       "21-Mar-20     1\n",
       "21-Nov-19     9\n",
       "22-Feb-20     1\n",
       "22-Nov-19     2\n",
       "23-Nov-19     2\n",
       "24-Feb-20     1\n",
       "27-Jan-20     2\n",
       "28-Feb-20     1\n",
       "28-Jan-20     1\n",
       "29-Feb-20     1\n",
       "29-Jan-20     2\n",
       "3-Apr-20      9\n",
       "3-Feb-20      3\n",
       "3-Mar-20      4\n",
       "30-Jan-20     1\n",
       "4-Apr-20     15\n",
       "4-Feb-20      3\n",
       "4-Mar-20      5\n",
       "5-Feb-20      1\n",
       "5-Mar-20      1\n",
       "6-Mar-20      5\n",
       "7-Feb-20      3\n",
       "7-Jan-19     36\n",
       "7-Mar-20      1\n",
       "8-Jan-19     46\n",
       "8-Mar-20      3\n",
       "9-Feb-20      1\n",
       "9-Jan-19     30\n",
       "9-Mar-20      1\n",
       "Name: data_id, dtype: int64"
      ]
     },
     "execution_count": 15,
     "metadata": {},
     "output_type": "execute_result"
    }
   ],
   "source": [
    "df.groupby('event_date')['data_id'].count()\n",
    "#df_dates.to_csv(r'C:/Users/Caitlin/OneDrive/ACLED_CentralAmerica/DataVisFiles/CountOfEventsDay.csv') #export csv from df"
   ]
  },
  {
   "cell_type": "markdown",
   "metadata": {},
   "source": [
    "- Country"
   ]
  },
  {
   "cell_type": "code",
   "execution_count": 16,
   "metadata": {},
   "outputs": [
    {
     "data": {
      "text/plain": [
       "country\n",
       "Belize           8\n",
       "Costa Rica       1\n",
       "El Salvador      7\n",
       "Guatemala       10\n",
       "Honduras        15\n",
       "Mexico         272\n",
       "Nicaragua       16\n",
       "Panama          39\n",
       "Name: data_id, dtype: int64"
      ]
     },
     "execution_count": 16,
     "metadata": {},
     "output_type": "execute_result"
    }
   ],
   "source": [
    "df.groupby('country')['data_id'].count()\n",
    "#df_country.to_csv(r'C:/Users/Caitlin/OneDrive/ACLED_CentralAmerica/DataVisFiles/CountPerCountry.csv') #export csv from df"
   ]
  },
  {
   "cell_type": "markdown",
   "metadata": {},
   "source": [
    "- Event Type"
   ]
  },
  {
   "cell_type": "code",
   "execution_count": 17,
   "metadata": {},
   "outputs": [
    {
     "data": {
      "text/plain": [
       "event_type\n",
       "Battles                        39\n",
       "Explosions/Remote violence      1\n",
       "Protests                      142\n",
       "Riots                          20\n",
       "Strategic developments         15\n",
       "Violence against civilians    151\n",
       "Name: data_id, dtype: int64"
      ]
     },
     "execution_count": 17,
     "metadata": {},
     "output_type": "execute_result"
    }
   ],
   "source": [
    "df.groupby('event_type')['data_id'].count()"
   ]
  },
  {
   "cell_type": "markdown",
   "metadata": {},
   "source": [
    "- Sub-Events"
   ]
  },
  {
   "cell_type": "code",
   "execution_count": 18,
   "metadata": {
    "scrolled": false
   },
   "outputs": [
    {
     "data": {
      "text/plain": [
       "sub_event_type\n",
       "Abduction/forced disappearance        8\n",
       "Armed clash                          39\n",
       "Arrests                               2\n",
       "Attack                              143\n",
       "Change to group/activity              3\n",
       "Grenade                               1\n",
       "Headquarters or base established      1\n",
       "Looting/property destruction          9\n",
       "Mob violence                         11\n",
       "Peaceful protest                    138\n",
       "Protest with intervention             4\n",
       "Violent demonstration                 9\n",
       "Name: data_id, dtype: int64"
      ]
     },
     "execution_count": 18,
     "metadata": {},
     "output_type": "execute_result"
    }
   ],
   "source": [
    "df.groupby('sub_event_type')['data_id'].count()"
   ]
  },
  {
   "cell_type": "markdown",
   "metadata": {},
   "source": [
    "- Geographic Precision"
   ]
  },
  {
   "cell_type": "code",
   "execution_count": 19,
   "metadata": {},
   "outputs": [
    {
     "data": {
      "text/plain": [
       "geo_precision\n",
       "1    331\n",
       "2     32\n",
       "3      5\n",
       "Name: data_id, dtype: int64"
      ]
     },
     "execution_count": 19,
     "metadata": {},
     "output_type": "execute_result"
    }
   ],
   "source": [
    "df.groupby('geo_precision')['data_id'].count()"
   ]
  },
  {
   "cell_type": "markdown",
   "metadata": {},
   "source": [
    "#### Using value_counts()\n",
    "- value_counts() does the same as a groupby if you just want counts."
   ]
  },
  {
   "cell_type": "code",
   "execution_count": 20,
   "metadata": {
    "scrolled": false
   },
   "outputs": [
    {
     "data": {
      "text/plain": [
       "1    331\n",
       "2     32\n",
       "3      5\n",
       "Name: geo_precision, dtype: int64"
      ]
     },
     "execution_count": 20,
     "metadata": {},
     "output_type": "execute_result"
    }
   ],
   "source": [
    "#df['event_date'].value_counts()\n",
    "df['geo_precision'].value_counts()"
   ]
  },
  {
   "cell_type": "code",
   "execution_count": 25,
   "metadata": {},
   "outputs": [
    {
     "data": {
      "text/plain": [
       "Violence against civilians    0.41\n",
       "Protests                      0.39\n",
       "Battles                       0.11\n",
       "Riots                         0.05\n",
       "Strategic developments        0.04\n",
       "Explosions/Remote violence    0.00\n",
       "Name: event_type, dtype: float64"
      ]
     },
     "execution_count": 25,
     "metadata": {},
     "output_type": "execute_result"
    }
   ],
   "source": [
    "df['event_type'].value_counts(normalize=True,dropna=False).round(2)"
   ]
  },
  {
   "cell_type": "markdown",
   "metadata": {},
   "source": [
    "#### You can pass in different methods to do quick summaries of your column aggregates.\n",
    "- Don't forget you can always use help() to see what a method/function does within a library.\n",
    "- If you can't find it, you can use dir() to see the library structure"
   ]
  },
  {
   "cell_type": "code",
   "execution_count": 26,
   "metadata": {},
   "outputs": [
    {
     "name": "stdout",
     "output_type": "stream",
     "text": [
      "Help on function value_counts in module pandas.core.algorithms:\n",
      "\n",
      "value_counts(values, sort: bool = True, ascending: bool = False, normalize: bool = False, bins=None, dropna: bool = True) -> 'Series'\n",
      "    Compute a histogram of the counts of non-null values.\n",
      "    \n",
      "    Parameters\n",
      "    ----------\n",
      "    values : ndarray (1-d)\n",
      "    sort : bool, default True\n",
      "        Sort by values\n",
      "    ascending : bool, default False\n",
      "        Sort in ascending order\n",
      "    normalize: bool, default False\n",
      "        If True then compute a relative histogram\n",
      "    bins : integer, optional\n",
      "        Rather than count values, group them into half-open bins,\n",
      "        convenience for pd.cut, only works with numeric data\n",
      "    dropna : bool, default True\n",
      "        Don't include counts of NaN\n",
      "    \n",
      "    Returns\n",
      "    -------\n",
      "    Series\n",
      "\n"
     ]
    }
   ],
   "source": [
    "help(pd.value_counts)\n",
    "#dir(pd)"
   ]
  },
  {
   "cell_type": "markdown",
   "metadata": {},
   "source": [
    "#### Normalize\n",
    "- Using the options within the method, we can easily normalize the data"
   ]
  },
  {
   "cell_type": "code",
   "execution_count": 27,
   "metadata": {},
   "outputs": [
    {
     "data": {
      "text/plain": [
       "1    0.899457\n",
       "2    0.086957\n",
       "3    0.013587\n",
       "Name: geo_precision, dtype: float64"
      ]
     },
     "execution_count": 27,
     "metadata": {},
     "output_type": "execute_result"
    }
   ],
   "source": [
    "df['geo_precision'].value_counts(normalize=True)"
   ]
  },
  {
   "cell_type": "code",
   "execution_count": 28,
   "metadata": {
    "scrolled": true
   },
   "outputs": [
    {
     "data": {
      "text/plain": [
       "8-Jan-19     46\n",
       "13-Jan-19    44\n",
       "7-Jan-19     36\n",
       "12-Jan-19    36\n",
       "11-Jan-19    31\n",
       "9-Jan-19     30\n",
       "10-Jan-19    26\n",
       "4-Apr-20     15\n",
       "3-Apr-20      9\n",
       "21-Nov-19     9\n",
       "6-Mar-20      5\n",
       "4-Mar-20      5\n",
       "14-Jan-19     4\n",
       "3-Mar-20      4\n",
       "15-Nov-19     4\n",
       "10-Nov-19     3\n",
       "4-Feb-20      3\n",
       "7-Feb-20      3\n",
       "3-Feb-20      3\n",
       "8-Mar-20      3\n",
       "18-Nov-19     3\n",
       "13-Mar-20     3\n",
       "20-Nov-19     2\n",
       "17-Feb-20     2\n",
       "23-Nov-19     2\n",
       "27-Jan-20     2\n",
       "18-Mar-20     2\n",
       "22-Nov-19     2\n",
       "20-Feb-20     2\n",
       "29-Jan-20     2\n",
       "2-Mar-20      2\n",
       "19-Feb-20     2\n",
       "28-Feb-20     1\n",
       "9-Feb-20      1\n",
       "15-Mar-20     1\n",
       "9-Mar-20      1\n",
       "14-Nov-19     1\n",
       "12-Feb-20     1\n",
       "7-Mar-20      1\n",
       "30-Jan-20     1\n",
       "16-Nov-19     1\n",
       "5-Mar-20      1\n",
       "29-Feb-20     1\n",
       "28-Jan-20     1\n",
       "16-Mar-20     1\n",
       "22-Feb-20     1\n",
       "24-Feb-20     1\n",
       "5-Feb-20      1\n",
       "10-Mar-20     1\n",
       "21-Mar-20     1\n",
       "17-Mar-20     1\n",
       "13-Nov-19     1\n",
       "18-Feb-20     1\n",
       "19-Nov-19     1\n",
       "21-Feb-20     1\n",
       "Name: event_date, dtype: int64"
      ]
     },
     "execution_count": 28,
     "metadata": {},
     "output_type": "execute_result"
    }
   ],
   "source": [
    "dates_series = df['event_date'].value_counts()\n",
    "dates_series"
   ]
  },
  {
   "cell_type": "markdown",
   "metadata": {},
   "source": [
    "#### Make sure you know what options you are using especially with nulls"
   ]
  },
  {
   "cell_type": "code",
   "execution_count": 34,
   "metadata": {
    "scrolled": true
   },
   "outputs": [
    {
     "data": {
      "text/plain": [
       "Civilians (Mexico)                                            137\n",
       "Police Forces of Mexico (2018-) State Police                   10\n",
       "Military Forces of Mexico (2018-)                              10\n",
       "Civilians (Honduras)                                            8\n",
       "Unidentified Gang (Mexico)                                      7\n",
       "Civilians (Guatemala)                                           6\n",
       "Unidentified Armed Group (Mexico)                               5\n",
       "Police Forces of Mexico (2018-)                                 4\n",
       "Civilians (Nicaragua)                                           4\n",
       "Unidentified Gang (Honduras)                                    3\n",
       "Civilians (Panama)                                              3\n",
       "Unidentified Gang (Belize)                                      3\n",
       "Rioters (Mexico)                                                2\n",
       "Civilians (International)                                       2\n",
       "Unidentified Gang (Guatemala)                                   1\n",
       "Police Forces of Belize (2008-)                                 1\n",
       "Huachicoleros (Mexico)                                          1\n",
       "Police Forces of Nicaragua (2007-)                              1\n",
       "Police Forces of Mexico (2018-) Ministerial Federal Police      1\n",
       "Civilians (Belize)                                              1\n",
       "Los Valle Valle Gang                                            1\n",
       "B-18: Barrio-18                                                 1\n",
       "Private Security Forces (Mexico)                                1\n",
       "Sinaloa Cartel                                                  1\n",
       "Police Forces of Panama (2019-)                                 1\n",
       "Police Forces of Guatemala (2020-)                              1\n",
       "Police Forces of Mexico (2018-) Prison Guards                   1\n",
       "Rioters (Nicaragua)                                             1\n",
       "Name: actor2, dtype: int64"
      ]
     },
     "execution_count": 34,
     "metadata": {},
     "output_type": "execute_result"
    }
   ],
   "source": [
    "df['actor2'].value_counts()\n",
    "#df['actor2'].value_counts(normalize=True)\n",
    "#df['actor2'].value_counts(dropna=False)\n",
    "#df['actor2'].value_counts(dropna=False, normalize=True)"
   ]
  },
  {
   "cell_type": "markdown",
   "metadata": {},
   "source": [
    "- If you have numeric data you can do bins"
   ]
  },
  {
   "cell_type": "code",
   "execution_count": 38,
   "metadata": {},
   "outputs": [
    {
     "data": {
      "text/plain": [
       "(-0.025, 4.8]    361\n",
       "(4.8, 9.6]         4\n",
       "(19.2, 24.0]       1\n",
       "(14.4, 19.2]       1\n",
       "(9.6, 14.4]        1\n",
       "Name: fatalities, dtype: int64"
      ]
     },
     "execution_count": 38,
     "metadata": {},
     "output_type": "execute_result"
    }
   ],
   "source": [
    "df['fatalities'].value_counts(bins=5)"
   ]
  },
  {
   "cell_type": "markdown",
   "metadata": {},
   "source": [
    "#### Important check - Make sure to regularly check what you are working with with type(). Series and DataFrames work different but get mixed up.\n",
    "- Extra info on the topic https://pandas.pydata.org/pandas-docs/stable/getting_started/dsintro.html"
   ]
  },
  {
   "cell_type": "code",
   "execution_count": 37,
   "metadata": {},
   "outputs": [
    {
     "data": {
      "text/plain": [
       "pandas.core.series.Series"
      ]
     },
     "execution_count": 37,
     "metadata": {},
     "output_type": "execute_result"
    }
   ],
   "source": [
    "deaths = df['fatalities'].value_counts()\n",
    "type(deaths)"
   ]
  },
  {
   "cell_type": "code",
   "execution_count": null,
   "metadata": {},
   "outputs": [],
   "source": [
    "#ax = sns.distplot(deaths)"
   ]
  },
  {
   "cell_type": "code",
   "execution_count": 187,
   "metadata": {},
   "outputs": [
    {
     "data": {
      "text/plain": [
       "<matplotlib.axes._subplots.AxesSubplot at 0x216618979c8>"
      ]
     },
     "execution_count": 187,
     "metadata": {},
     "output_type": "execute_result"
    },
    {
     "data": {
      "image/png": "[encoded data removed]",
      "text/plain": [
       "<Figure size 432x288 with 1 Axes>"
      ]
     },
     "metadata": {
      "needs_background": "light"
     },
     "output_type": "display_data"
    }
   ],
   "source": [
    "sns.barplot(deaths.index, deaths.values)"
   ]
  },
  {
   "cell_type": "markdown",
   "metadata": {},
   "source": [
    "# Finding Anomalies"
   ]
  },
  {
   "cell_type": "markdown",
   "metadata": {},
   "source": [
    "#### Original Code\n",
    "\n",
    "- Find dates that are not \"normal\" i.e. are outside of the mean +/- 2 times the standard deviation\n",
    "- OUTPUT: Prints a list of dates and number of events"
   ]
  },
  {
   "cell_type": "code",
   "execution_count": 39,
   "metadata": {},
   "outputs": [
    {
     "name": "stdout",
     "output_type": "stream",
     "text": [
      "8-Jan-19 46\n",
      "13-Jan-19 44\n",
      "7-Jan-19 36\n",
      "12-Jan-19 36\n",
      "11-Jan-19 31\n",
      "9-Jan-19 30\n"
     ]
    }
   ],
   "source": [
    "mean = dates_series.mean()\n",
    "std = np.std(dates_series)\n",
    "\n",
    "for count, index in zip(dates_series, dates_series.index):\n",
    "    # If the value for the date is less than the mean - 2 times the standard deviation or more than the mean + 2 time the std\n",
    "    if count < (mean - 2*std) or count > (mean + 2*std):\n",
    "        print(str(index).split(\" \")[0], count)"
   ]
  },
  {
   "cell_type": "markdown",
   "metadata": {},
   "source": [
    "#### Other Version to do same action\n",
    "\n",
    "- Difference is cleaning up variable usage\n",
    "- Make sure variables are clear and accurate.\n",
    "- Important - OUTPUT is just printing, you don't end up with anything"
   ]
  },
  {
   "cell_type": "code",
   "execution_count": 41,
   "metadata": {},
   "outputs": [
    {
     "name": "stdout",
     "output_type": "stream",
     "text": [
      "8-Jan-19 46\n",
      "13-Jan-19 44\n",
      "7-Jan-19 36\n",
      "12-Jan-19 36\n",
      "11-Jan-19 31\n",
      "9-Jan-19 30\n"
     ]
    }
   ],
   "source": [
    "dates_mean = dates_series.mean()\n",
    "dates_std = dates_series.std()\n",
    "std_low = dates_mean - 2*dates_std\n",
    "std_high = dates_mean + 2*dates_std\n",
    "\n",
    "for count, index in zip(dates_series, dates_series.index):\n",
    "    # If the value for the date is less than the mean - 2 times the standard deviation or more than the mean + 2 time the std\n",
    "    if count < std_low or count > std_high:\n",
    "        print(str(index).split(\" \")[0], count)"
   ]
  },
  {
   "cell_type": "code",
   "execution_count": 44,
   "metadata": {},
   "outputs": [
    {
     "data": {
      "text/plain": [
       "8-Jan-19     46\n",
       "13-Jan-19    44\n",
       "7-Jan-19     36\n",
       "12-Jan-19    36\n",
       "11-Jan-19    31\n",
       "9-Jan-19     30\n",
       "Name: event_date, dtype: int64"
      ]
     },
     "execution_count": 44,
     "metadata": {},
     "output_type": "execute_result"
    }
   ],
   "source": [
    "date_output = dates_series[(dates_series.values > std_high) | (dates_series.values < std_low)]\n",
    "date_output"
   ]
  },
  {
   "cell_type": "markdown",
   "metadata": {},
   "source": [
    "#### *NOTE: The above code is working on a pandas Series. groupby()'s output is a Series. You can do a lot more with Dataframes over Series.*"
   ]
  },
  {
   "cell_type": "markdown",
   "metadata": {},
   "source": [
    "#### Convert Series to Dataframe\n",
    "- We're using the < dates_series = df['event_date'].value_counts() > Series we created before"
   ]
  },
  {
   "cell_type": "code",
   "execution_count": 45,
   "metadata": {},
   "outputs": [
    {
     "data": {
      "text/html": [
       "<div>\n",
       "<style scoped>\n",
       "    .dataframe tbody tr th:only-of-type {\n",
       "        vertical-align: middle;\n",
       "    }\n",
       "\n",
       "    .dataframe tbody tr th {\n",
       "        vertical-align: top;\n",
       "    }\n",
       "\n",
       "    .dataframe thead th {\n",
       "        text-align: right;\n",
       "    }\n",
       "</style>\n",
       "<table border=\"1\" class=\"dataframe\">\n",
       "  <thead>\n",
       "    <tr style=\"text-align: right;\">\n",
       "      <th></th>\n",
       "      <th>index</th>\n",
       "      <th>count</th>\n",
       "    </tr>\n",
       "  </thead>\n",
       "  <tbody>\n",
       "    <tr>\n",
       "      <th>0</th>\n",
       "      <td>8-Jan-19</td>\n",
       "      <td>46</td>\n",
       "    </tr>\n",
       "    <tr>\n",
       "      <th>1</th>\n",
       "      <td>13-Jan-19</td>\n",
       "      <td>44</td>\n",
       "    </tr>\n",
       "    <tr>\n",
       "      <th>2</th>\n",
       "      <td>7-Jan-19</td>\n",
       "      <td>36</td>\n",
       "    </tr>\n",
       "    <tr>\n",
       "      <th>3</th>\n",
       "      <td>12-Jan-19</td>\n",
       "      <td>36</td>\n",
       "    </tr>\n",
       "    <tr>\n",
       "      <th>4</th>\n",
       "      <td>11-Jan-19</td>\n",
       "      <td>31</td>\n",
       "    </tr>\n",
       "    <tr>\n",
       "      <th>5</th>\n",
       "      <td>9-Jan-19</td>\n",
       "      <td>30</td>\n",
       "    </tr>\n",
       "    <tr>\n",
       "      <th>6</th>\n",
       "      <td>10-Jan-19</td>\n",
       "      <td>26</td>\n",
       "    </tr>\n",
       "    <tr>\n",
       "      <th>7</th>\n",
       "      <td>4-Apr-20</td>\n",
       "      <td>15</td>\n",
       "    </tr>\n",
       "    <tr>\n",
       "      <th>8</th>\n",
       "      <td>3-Apr-20</td>\n",
       "      <td>9</td>\n",
       "    </tr>\n",
       "    <tr>\n",
       "      <th>9</th>\n",
       "      <td>21-Nov-19</td>\n",
       "      <td>9</td>\n",
       "    </tr>\n",
       "  </tbody>\n",
       "</table>\n",
       "</div>"
      ],
      "text/plain": [
       "       index  count\n",
       "0   8-Jan-19     46\n",
       "1  13-Jan-19     44\n",
       "2   7-Jan-19     36\n",
       "3  12-Jan-19     36\n",
       "4  11-Jan-19     31\n",
       "5   9-Jan-19     30\n",
       "6  10-Jan-19     26\n",
       "7   4-Apr-20     15\n",
       "8   3-Apr-20      9\n",
       "9  21-Nov-19      9"
      ]
     },
     "execution_count": 45,
     "metadata": {},
     "output_type": "execute_result"
    }
   ],
   "source": [
    "gbdates_df = pd.DataFrame(dates_series.reset_index(name=\"count\"))\n",
    "gbdates_df.head(10)"
   ]
  },
  {
   "cell_type": "markdown",
   "metadata": {},
   "source": [
    "- If converted to a Dataframe, you can use a simple slice. And then you can continue to use sort and other methods since it is a dataframe\n",
    "- We can now apply the same query we did before to the dataframe"
   ]
  },
  {
   "cell_type": "code",
   "execution_count": 46,
   "metadata": {},
   "outputs": [
    {
     "data": {
      "text/html": [
       "<div>\n",
       "<style scoped>\n",
       "    .dataframe tbody tr th:only-of-type {\n",
       "        vertical-align: middle;\n",
       "    }\n",
       "\n",
       "    .dataframe tbody tr th {\n",
       "        vertical-align: top;\n",
       "    }\n",
       "\n",
       "    .dataframe thead th {\n",
       "        text-align: right;\n",
       "    }\n",
       "</style>\n",
       "<table border=\"1\" class=\"dataframe\">\n",
       "  <thead>\n",
       "    <tr style=\"text-align: right;\">\n",
       "      <th></th>\n",
       "      <th>index</th>\n",
       "      <th>count</th>\n",
       "    </tr>\n",
       "  </thead>\n",
       "  <tbody>\n",
       "    <tr>\n",
       "      <th>0</th>\n",
       "      <td>8-Jan-19</td>\n",
       "      <td>46</td>\n",
       "    </tr>\n",
       "    <tr>\n",
       "      <th>1</th>\n",
       "      <td>13-Jan-19</td>\n",
       "      <td>44</td>\n",
       "    </tr>\n",
       "    <tr>\n",
       "      <th>2</th>\n",
       "      <td>7-Jan-19</td>\n",
       "      <td>36</td>\n",
       "    </tr>\n",
       "    <tr>\n",
       "      <th>3</th>\n",
       "      <td>12-Jan-19</td>\n",
       "      <td>36</td>\n",
       "    </tr>\n",
       "    <tr>\n",
       "      <th>4</th>\n",
       "      <td>11-Jan-19</td>\n",
       "      <td>31</td>\n",
       "    </tr>\n",
       "    <tr>\n",
       "      <th>5</th>\n",
       "      <td>9-Jan-19</td>\n",
       "      <td>30</td>\n",
       "    </tr>\n",
       "  </tbody>\n",
       "</table>\n",
       "</div>"
      ],
      "text/plain": [
       "       index  count\n",
       "0   8-Jan-19     46\n",
       "1  13-Jan-19     44\n",
       "2   7-Jan-19     36\n",
       "3  12-Jan-19     36\n",
       "4  11-Jan-19     31\n",
       "5   9-Jan-19     30"
      ]
     },
     "execution_count": 46,
     "metadata": {},
     "output_type": "execute_result"
    }
   ],
   "source": [
    "#dates_filtered = gbdates_df[gbdates_df['count'] > 10]\n",
    "dates_filtered = gbdates_df[(gbdates_df['count'] < std_low) | (gbdates_df['count'] > std_high)]\n",
    "dates_filtered.sort_values(by='count', ascending=False)"
   ]
  },
  {
   "cell_type": "markdown",
   "metadata": {},
   "source": [
    "# Geo-Precision Levels Analysis"
   ]
  },
  {
   "cell_type": "code",
   "execution_count": null,
   "metadata": {
    "scrolled": true
   },
   "outputs": [],
   "source": [
    "#subset the geo_precision event records for further analysis \n",
    "df_prec1 = df[df.geo_precision == 1]\n",
    "df_prec2 = df[df.geo_precision == 2]\n",
    "df_prec3 = df[df.geo_precision == 3]"
   ]
  },
  {
   "cell_type": "code",
   "execution_count": null,
   "metadata": {},
   "outputs": [],
   "source": [
    "#create grouped dataframes for each precision level by event type\n",
    "#this cell creates a table that shows the number of records for each event type for each geo-precision\n",
    "df_prec1Event = df_prec1.groupby('event_type')['data_id'].count().to_frame(name='count_prec1').reset_index()\n",
    "df_prec2Event = df_prec2.groupby('event_type')['data_id'].count().to_frame(name='count_prec2').reset_index()\n",
    "df_prec3Event = df_prec3.groupby('event_type')['data_id'].count().to_frame(name='count_prec3').reset_index()\n",
    "#merge tables to get count by event type for each spatial precision\n",
    "join1 = df_prec1Event.merge(df_prec2Event)\n",
    "join2 = join1.merge(df_prec3Event)\n",
    "join2\n",
    "#join2.to_csv(r'C:/Users/Caitlin/OneDrive/ACLED_CentralAmerica/DataVisFiles/PrecCountEvents.csv') #export table to csv"
   ]
  },
  {
   "cell_type": "markdown",
   "metadata": {},
   "source": [
    "#### What is the above code doing?\n",
    "- Slicing a Dataframe by geo_precision\n",
    "- Grouping by event type into a Series -> then converting back into a dataframe\n",
    "- Merging them back together to make a dataframe"
   ]
  },
  {
   "cell_type": "markdown",
   "metadata": {},
   "source": [
    "### Grouping Data Options"
   ]
  },
  {
   "cell_type": "markdown",
   "metadata": {},
   "source": [
    "#### 1) Groupby\n",
    "- Since you are groupby-ing twice in the above code, you can do it at once. A little advanced with the way to set this up properly."
   ]
  },
  {
   "cell_type": "code",
   "execution_count": 204,
   "metadata": {},
   "outputs": [],
   "source": [
    "#help(pd.DataFrame.groupby)"
   ]
  },
  {
   "cell_type": "code",
   "execution_count": 49,
   "metadata": {},
   "outputs": [
    {
     "data": {
      "text/html": [
       "<div>\n",
       "<style scoped>\n",
       "    .dataframe tbody tr th:only-of-type {\n",
       "        vertical-align: middle;\n",
       "    }\n",
       "\n",
       "    .dataframe tbody tr th {\n",
       "        vertical-align: top;\n",
       "    }\n",
       "\n",
       "    .dataframe thead th {\n",
       "        text-align: right;\n",
       "    }\n",
       "</style>\n",
       "<table border=\"1\" class=\"dataframe\">\n",
       "  <thead>\n",
       "    <tr style=\"text-align: right;\">\n",
       "      <th>geo_precision</th>\n",
       "      <th>1</th>\n",
       "      <th>2</th>\n",
       "      <th>3</th>\n",
       "    </tr>\n",
       "    <tr>\n",
       "      <th>event_type</th>\n",
       "      <th></th>\n",
       "      <th></th>\n",
       "      <th></th>\n",
       "    </tr>\n",
       "  </thead>\n",
       "  <tbody>\n",
       "    <tr>\n",
       "      <th>Battles</th>\n",
       "      <td>35.0</td>\n",
       "      <td>4.0</td>\n",
       "      <td>0.0</td>\n",
       "    </tr>\n",
       "    <tr>\n",
       "      <th>Explosions/Remote violence</th>\n",
       "      <td>1.0</td>\n",
       "      <td>0.0</td>\n",
       "      <td>0.0</td>\n",
       "    </tr>\n",
       "    <tr>\n",
       "      <th>Protests</th>\n",
       "      <td>136.0</td>\n",
       "      <td>5.0</td>\n",
       "      <td>1.0</td>\n",
       "    </tr>\n",
       "    <tr>\n",
       "      <th>Riots</th>\n",
       "      <td>17.0</td>\n",
       "      <td>3.0</td>\n",
       "      <td>0.0</td>\n",
       "    </tr>\n",
       "    <tr>\n",
       "      <th>Strategic developments</th>\n",
       "      <td>10.0</td>\n",
       "      <td>2.0</td>\n",
       "      <td>3.0</td>\n",
       "    </tr>\n",
       "    <tr>\n",
       "      <th>Violence against civilians</th>\n",
       "      <td>132.0</td>\n",
       "      <td>18.0</td>\n",
       "      <td>1.0</td>\n",
       "    </tr>\n",
       "  </tbody>\n",
       "</table>\n",
       "</div>"
      ],
      "text/plain": [
       "geo_precision                   1     2    3\n",
       "event_type                                  \n",
       "Battles                      35.0   4.0  0.0\n",
       "Explosions/Remote violence    1.0   0.0  0.0\n",
       "Protests                    136.0   5.0  1.0\n",
       "Riots                        17.0   3.0  0.0\n",
       "Strategic developments       10.0   2.0  3.0\n",
       "Violence against civilians  132.0  18.0  1.0"
      ]
     },
     "execution_count": 49,
     "metadata": {},
     "output_type": "execute_result"
    }
   ],
   "source": [
    "groupby_test = df.groupby(['event_type', 'geo_precision'])['geo_precision'].count().unstack().fillna(0)\n",
    "#type(groupby_test)\n",
    "groupby_test"
   ]
  },
  {
   "cell_type": "markdown",
   "metadata": {},
   "source": [
    "#### 2) Pivot Table\n",
    "- Also works well with dataframes. Also a little advanced with options, and if you want to add more specification."
   ]
  },
  {
   "cell_type": "code",
   "execution_count": 208,
   "metadata": {},
   "outputs": [],
   "source": [
    "#help(pd.pivot_table)"
   ]
  },
  {
   "cell_type": "code",
   "execution_count": 50,
   "metadata": {},
   "outputs": [
    {
     "data": {
      "text/html": [
       "<div>\n",
       "<style scoped>\n",
       "    .dataframe tbody tr th:only-of-type {\n",
       "        vertical-align: middle;\n",
       "    }\n",
       "\n",
       "    .dataframe tbody tr th {\n",
       "        vertical-align: top;\n",
       "    }\n",
       "\n",
       "    .dataframe thead tr th {\n",
       "        text-align: left;\n",
       "    }\n",
       "\n",
       "    .dataframe thead tr:last-of-type th {\n",
       "        text-align: right;\n",
       "    }\n",
       "</style>\n",
       "<table border=\"1\" class=\"dataframe\">\n",
       "  <thead>\n",
       "    <tr>\n",
       "      <th></th>\n",
       "      <th colspan=\"3\" halign=\"left\">geo_precision</th>\n",
       "    </tr>\n",
       "    <tr>\n",
       "      <th>geo_precision</th>\n",
       "      <th>1</th>\n",
       "      <th>2</th>\n",
       "      <th>3</th>\n",
       "    </tr>\n",
       "    <tr>\n",
       "      <th>event_type</th>\n",
       "      <th></th>\n",
       "      <th></th>\n",
       "      <th></th>\n",
       "    </tr>\n",
       "  </thead>\n",
       "  <tbody>\n",
       "    <tr>\n",
       "      <th>Battles</th>\n",
       "      <td>35</td>\n",
       "      <td>4</td>\n",
       "      <td>0</td>\n",
       "    </tr>\n",
       "    <tr>\n",
       "      <th>Explosions/Remote violence</th>\n",
       "      <td>1</td>\n",
       "      <td>0</td>\n",
       "      <td>0</td>\n",
       "    </tr>\n",
       "    <tr>\n",
       "      <th>Protests</th>\n",
       "      <td>136</td>\n",
       "      <td>5</td>\n",
       "      <td>1</td>\n",
       "    </tr>\n",
       "    <tr>\n",
       "      <th>Riots</th>\n",
       "      <td>17</td>\n",
       "      <td>3</td>\n",
       "      <td>0</td>\n",
       "    </tr>\n",
       "    <tr>\n",
       "      <th>Strategic developments</th>\n",
       "      <td>10</td>\n",
       "      <td>2</td>\n",
       "      <td>3</td>\n",
       "    </tr>\n",
       "    <tr>\n",
       "      <th>Violence against civilians</th>\n",
       "      <td>132</td>\n",
       "      <td>18</td>\n",
       "      <td>1</td>\n",
       "    </tr>\n",
       "  </tbody>\n",
       "</table>\n",
       "</div>"
      ],
      "text/plain": [
       "                           geo_precision       \n",
       "geo_precision                          1   2  3\n",
       "event_type                                     \n",
       "Battles                               35   4  0\n",
       "Explosions/Remote violence             1   0  0\n",
       "Protests                             136   5  1\n",
       "Riots                                 17   3  0\n",
       "Strategic developments                10   2  3\n",
       "Violence against civilians           132  18  1"
      ]
     },
     "execution_count": 50,
     "metadata": {},
     "output_type": "execute_result"
    }
   ],
   "source": [
    "pivot_test = df.pivot_table(index='event_type', columns='geo_precision', aggfunc={'geo_precision':len}, fill_value=0)\n",
    "pivot_test"
   ]
  },
  {
   "cell_type": "markdown",
   "metadata": {},
   "source": [
    "#### 3) Crosstab\n",
    "- Simplified way to aggregate/group data. Built in options to advance further.\n",
    "- Great walkthrough on how it works. https://pbpython.com/pandas-crosstab.html"
   ]
  },
  {
   "cell_type": "code",
   "execution_count": 211,
   "metadata": {},
   "outputs": [],
   "source": [
    "#help(pd.crosstab)"
   ]
  },
  {
   "cell_type": "code",
   "execution_count": 51,
   "metadata": {},
   "outputs": [
    {
     "data": {
      "text/html": [
       "<div>\n",
       "<style scoped>\n",
       "    .dataframe tbody tr th:only-of-type {\n",
       "        vertical-align: middle;\n",
       "    }\n",
       "\n",
       "    .dataframe tbody tr th {\n",
       "        vertical-align: top;\n",
       "    }\n",
       "\n",
       "    .dataframe thead th {\n",
       "        text-align: right;\n",
       "    }\n",
       "</style>\n",
       "<table border=\"1\" class=\"dataframe\">\n",
       "  <thead>\n",
       "    <tr style=\"text-align: right;\">\n",
       "      <th>geo_precision</th>\n",
       "      <th>1</th>\n",
       "      <th>2</th>\n",
       "      <th>3</th>\n",
       "    </tr>\n",
       "    <tr>\n",
       "      <th>event_type</th>\n",
       "      <th></th>\n",
       "      <th></th>\n",
       "      <th></th>\n",
       "    </tr>\n",
       "  </thead>\n",
       "  <tbody>\n",
       "    <tr>\n",
       "      <th>Battles</th>\n",
       "      <td>35</td>\n",
       "      <td>4</td>\n",
       "      <td>0</td>\n",
       "    </tr>\n",
       "    <tr>\n",
       "      <th>Explosions/Remote violence</th>\n",
       "      <td>1</td>\n",
       "      <td>0</td>\n",
       "      <td>0</td>\n",
       "    </tr>\n",
       "    <tr>\n",
       "      <th>Protests</th>\n",
       "      <td>136</td>\n",
       "      <td>5</td>\n",
       "      <td>1</td>\n",
       "    </tr>\n",
       "    <tr>\n",
       "      <th>Riots</th>\n",
       "      <td>17</td>\n",
       "      <td>3</td>\n",
       "      <td>0</td>\n",
       "    </tr>\n",
       "    <tr>\n",
       "      <th>Strategic developments</th>\n",
       "      <td>10</td>\n",
       "      <td>2</td>\n",
       "      <td>3</td>\n",
       "    </tr>\n",
       "    <tr>\n",
       "      <th>Violence against civilians</th>\n",
       "      <td>132</td>\n",
       "      <td>18</td>\n",
       "      <td>1</td>\n",
       "    </tr>\n",
       "  </tbody>\n",
       "</table>\n",
       "</div>"
      ],
      "text/plain": [
       "geo_precision                 1   2  3\n",
       "event_type                            \n",
       "Battles                      35   4  0\n",
       "Explosions/Remote violence    1   0  0\n",
       "Protests                    136   5  1\n",
       "Riots                        17   3  0\n",
       "Strategic developments       10   2  3\n",
       "Violence against civilians  132  18  1"
      ]
     },
     "execution_count": 51,
     "metadata": {},
     "output_type": "execute_result"
    }
   ],
   "source": [
    "#df_precision_events = df[['event_type','geo_precision']]\n",
    "df_precision_events = pd.crosstab(df['event_type'],df['geo_precision'])\n",
    "df_precision_events"
   ]
  },
  {
   "cell_type": "markdown",
   "metadata": {},
   "source": [
    "- Can use the additional options to quickly add aggregations and totals to your data\n",
    "- 'margins' adds in totals for your columns/rows\n",
    "- can change 'dropna' to keep nulls"
   ]
  },
  {
   "cell_type": "code",
   "execution_count": 52,
   "metadata": {},
   "outputs": [
    {
     "data": {
      "text/html": [
       "<div>\n",
       "<style scoped>\n",
       "    .dataframe tbody tr th:only-of-type {\n",
       "        vertical-align: middle;\n",
       "    }\n",
       "\n",
       "    .dataframe tbody tr th {\n",
       "        vertical-align: top;\n",
       "    }\n",
       "\n",
       "    .dataframe thead th {\n",
       "        text-align: right;\n",
       "    }\n",
       "</style>\n",
       "<table border=\"1\" class=\"dataframe\">\n",
       "  <thead>\n",
       "    <tr style=\"text-align: right;\">\n",
       "      <th>geo_precision</th>\n",
       "      <th>1</th>\n",
       "      <th>2</th>\n",
       "      <th>3</th>\n",
       "      <th>Total</th>\n",
       "    </tr>\n",
       "    <tr>\n",
       "      <th>event_type</th>\n",
       "      <th></th>\n",
       "      <th></th>\n",
       "      <th></th>\n",
       "      <th></th>\n",
       "    </tr>\n",
       "  </thead>\n",
       "  <tbody>\n",
       "    <tr>\n",
       "      <th>Battles</th>\n",
       "      <td>35</td>\n",
       "      <td>4</td>\n",
       "      <td>0</td>\n",
       "      <td>39</td>\n",
       "    </tr>\n",
       "    <tr>\n",
       "      <th>Explosions/Remote violence</th>\n",
       "      <td>1</td>\n",
       "      <td>0</td>\n",
       "      <td>0</td>\n",
       "      <td>1</td>\n",
       "    </tr>\n",
       "    <tr>\n",
       "      <th>Protests</th>\n",
       "      <td>136</td>\n",
       "      <td>5</td>\n",
       "      <td>1</td>\n",
       "      <td>142</td>\n",
       "    </tr>\n",
       "    <tr>\n",
       "      <th>Riots</th>\n",
       "      <td>17</td>\n",
       "      <td>3</td>\n",
       "      <td>0</td>\n",
       "      <td>20</td>\n",
       "    </tr>\n",
       "    <tr>\n",
       "      <th>Strategic developments</th>\n",
       "      <td>10</td>\n",
       "      <td>2</td>\n",
       "      <td>3</td>\n",
       "      <td>15</td>\n",
       "    </tr>\n",
       "    <tr>\n",
       "      <th>Violence against civilians</th>\n",
       "      <td>132</td>\n",
       "      <td>18</td>\n",
       "      <td>1</td>\n",
       "      <td>151</td>\n",
       "    </tr>\n",
       "    <tr>\n",
       "      <th>Total</th>\n",
       "      <td>331</td>\n",
       "      <td>32</td>\n",
       "      <td>5</td>\n",
       "      <td>368</td>\n",
       "    </tr>\n",
       "  </tbody>\n",
       "</table>\n",
       "</div>"
      ],
      "text/plain": [
       "geo_precision                 1   2  3  Total\n",
       "event_type                                   \n",
       "Battles                      35   4  0     39\n",
       "Explosions/Remote violence    1   0  0      1\n",
       "Protests                    136   5  1    142\n",
       "Riots                        17   3  0     20\n",
       "Strategic developments       10   2  3     15\n",
       "Violence against civilians  132  18  1    151\n",
       "Total                       331  32  5    368"
      ]
     },
     "execution_count": 52,
     "metadata": {},
     "output_type": "execute_result"
    }
   ],
   "source": [
    "df_precision_events = pd.crosstab(df['event_type'],df['geo_precision']\n",
    "                                  ,margins=True,\n",
    "                                  margins_name=\"Total\",\n",
    "                                  dropna=False)\n",
    "df_precision_events"
   ]
  },
  {
   "cell_type": "code",
   "execution_count": 56,
   "metadata": {},
   "outputs": [
    {
     "data": {
      "text/html": [
       "<div>\n",
       "<style scoped>\n",
       "    .dataframe tbody tr th:only-of-type {\n",
       "        vertical-align: middle;\n",
       "    }\n",
       "\n",
       "    .dataframe tbody tr th {\n",
       "        vertical-align: top;\n",
       "    }\n",
       "\n",
       "    .dataframe thead th {\n",
       "        text-align: right;\n",
       "    }\n",
       "</style>\n",
       "<table border=\"1\" class=\"dataframe\">\n",
       "  <thead>\n",
       "    <tr style=\"text-align: right;\">\n",
       "      <th>Precision Level</th>\n",
       "      <th>1</th>\n",
       "      <th>2</th>\n",
       "      <th>3</th>\n",
       "      <th>Total</th>\n",
       "    </tr>\n",
       "    <tr>\n",
       "      <th>Event Type</th>\n",
       "      <th></th>\n",
       "      <th></th>\n",
       "      <th></th>\n",
       "      <th></th>\n",
       "    </tr>\n",
       "  </thead>\n",
       "  <tbody>\n",
       "    <tr>\n",
       "      <th>Battles</th>\n",
       "      <td>0.0951</td>\n",
       "      <td>0.0109</td>\n",
       "      <td>0.0000</td>\n",
       "      <td>0.1060</td>\n",
       "    </tr>\n",
       "    <tr>\n",
       "      <th>Explosions/Remote violence</th>\n",
       "      <td>0.0027</td>\n",
       "      <td>0.0000</td>\n",
       "      <td>0.0000</td>\n",
       "      <td>0.0027</td>\n",
       "    </tr>\n",
       "    <tr>\n",
       "      <th>Protests</th>\n",
       "      <td>0.3696</td>\n",
       "      <td>0.0136</td>\n",
       "      <td>0.0027</td>\n",
       "      <td>0.3859</td>\n",
       "    </tr>\n",
       "    <tr>\n",
       "      <th>Riots</th>\n",
       "      <td>0.0462</td>\n",
       "      <td>0.0082</td>\n",
       "      <td>0.0000</td>\n",
       "      <td>0.0543</td>\n",
       "    </tr>\n",
       "    <tr>\n",
       "      <th>Strategic developments</th>\n",
       "      <td>0.0272</td>\n",
       "      <td>0.0054</td>\n",
       "      <td>0.0082</td>\n",
       "      <td>0.0408</td>\n",
       "    </tr>\n",
       "    <tr>\n",
       "      <th>Violence against civilians</th>\n",
       "      <td>0.3587</td>\n",
       "      <td>0.0489</td>\n",
       "      <td>0.0027</td>\n",
       "      <td>0.4103</td>\n",
       "    </tr>\n",
       "    <tr>\n",
       "      <th>Total</th>\n",
       "      <td>0.8995</td>\n",
       "      <td>0.0870</td>\n",
       "      <td>0.0136</td>\n",
       "      <td>1.0000</td>\n",
       "    </tr>\n",
       "  </tbody>\n",
       "</table>\n",
       "</div>"
      ],
      "text/plain": [
       "Precision Level                  1       2       3   Total\n",
       "Event Type                                                \n",
       "Battles                     0.0951  0.0109  0.0000  0.1060\n",
       "Explosions/Remote violence  0.0027  0.0000  0.0000  0.0027\n",
       "Protests                    0.3696  0.0136  0.0027  0.3859\n",
       "Riots                       0.0462  0.0082  0.0000  0.0543\n",
       "Strategic developments      0.0272  0.0054  0.0082  0.0408\n",
       "Violence against civilians  0.3587  0.0489  0.0027  0.4103\n",
       "Total                       0.8995  0.0870  0.0136  1.0000"
      ]
     },
     "execution_count": 56,
     "metadata": {},
     "output_type": "execute_result"
    }
   ],
   "source": [
    "df_precision_events = pd.crosstab(df['event_type'],df['geo_precision'],\n",
    "                                  colnames=['Precision Level'],\n",
    "                                  rownames=['Event Type'],\n",
    "                                  margins=True,\n",
    "                                  margins_name=\"Total\",\n",
    "                                  dropna=False,\n",
    "                                  normalize=True\n",
    "                                  ).round(4)\n",
    "#normalize=True\n",
    "#normalize='columns'\n",
    "#normalize='index'\n",
    "df_precision_events\n"
   ]
  },
  {
   "cell_type": "markdown",
   "metadata": {},
   "source": [
    "#### Original Code with Country added\n",
    "- Looped through each Country, created a new DataFrame based off name, then ran the same code."
   ]
  },
  {
   "cell_type": "code",
   "execution_count": null,
   "metadata": {},
   "outputs": [],
   "source": [
    "#create grouped dataframes for each precision level by country\n",
    "#this cell creates a table that shows the number of records for each country for each geo-precision\n",
    "df_prec1Country = df_prec1.groupby('country')['data_id'].count().to_frame(name='count_prec1').reset_index()\n",
    "df_prec2Country = df_prec2.groupby('country')['data_id'].count().to_frame(name='count_prec2').reset_index()\n",
    "df_prec3Country = df_prec3.groupby('country')['data_id'].count().to_frame(name='count_prec3').reset_index()\n",
    "#merge tables to get count by country for each spatial precision\n",
    "join1 = df_prec1Country.merge(df_prec2Country)\n",
    "join22 = join1.merge(df_prec3Country)\n",
    "join22"
   ]
  },
  {
   "cell_type": "code",
   "execution_count": null,
   "metadata": {},
   "outputs": [],
   "source": [
    "#TO DO\n",
    "#add a column on the table that calculates the percent of total for each precision level "
   ]
  },
  {
   "cell_type": "code",
   "execution_count": null,
   "metadata": {},
   "outputs": [],
   "source": [
    "#Test for loop to create geo-precision tables for each country\n",
    "master_country_list = []\n",
    "country_list = df.country.unique()\n",
    "for country in country_list:\n",
    "    country_df  = df[df.country==country]\n",
    "    df_prec1 = country_df[country_df.geo_precision == 1]\n",
    "    df_prec2 = country_df[country_df.geo_precision == 2]\n",
    "    df_prec3 = country_df[country_df.geo_precision == 3]\n",
    "    df_prec1Event = df_prec1.groupby('event_type')['data_id'].count().to_frame(name='count_prec1').reset_index()\n",
    "    df_prec2Event = df_prec2.groupby('event_type')['data_id'].count().to_frame(name='count_prec2').reset_index()\n",
    "    df_prec3Event = df_prec3.groupby('event_type')['data_id'].count().to_frame(name='count_prec3').reset_index()\n",
    "    join1 = df_prec1Event.merge(df_prec2Event)\n",
    "    join2 = join1.merge(df_prec3Event)\n",
    "    join2\n",
    "    master_country_list.append(country_df)"
   ]
  },
  {
   "cell_type": "code",
   "execution_count": null,
   "metadata": {},
   "outputs": [],
   "source": [
    "len(master_country_list)"
   ]
  },
  {
   "cell_type": "code",
   "execution_count": null,
   "metadata": {},
   "outputs": [],
   "source": [
    "print(country_list)"
   ]
  },
  {
   "cell_type": "markdown",
   "metadata": {},
   "source": [
    "#### Run crosstab with Country included to do it all at once.\n",
    "- Pass in a List of columns to group by another level.\n",
    "- This time we are using [df['country'],df['geo_precision']]\n",
    "- Note if we don't do dropna=False whole columns will not show up since there isn't any data"
   ]
  },
  {
   "cell_type": "code",
   "execution_count": 57,
   "metadata": {},
   "outputs": [
    {
     "data": {
      "text/html": [
       "<div>\n",
       "<style scoped>\n",
       "    .dataframe tbody tr th:only-of-type {\n",
       "        vertical-align: middle;\n",
       "    }\n",
       "\n",
       "    .dataframe tbody tr th {\n",
       "        vertical-align: top;\n",
       "    }\n",
       "\n",
       "    .dataframe thead tr th {\n",
       "        text-align: left;\n",
       "    }\n",
       "\n",
       "    .dataframe thead tr:last-of-type th {\n",
       "        text-align: right;\n",
       "    }\n",
       "</style>\n",
       "<table border=\"1\" class=\"dataframe\">\n",
       "  <thead>\n",
       "    <tr>\n",
       "      <th>country</th>\n",
       "      <th colspan=\"3\" halign=\"left\">Belize</th>\n",
       "      <th>Costa Rica</th>\n",
       "      <th>El Salvador</th>\n",
       "      <th>Guatemala</th>\n",
       "      <th>Honduras</th>\n",
       "      <th colspan=\"3\" halign=\"left\">Mexico</th>\n",
       "      <th>Nicaragua</th>\n",
       "      <th colspan=\"2\" halign=\"left\">Panama</th>\n",
       "    </tr>\n",
       "    <tr>\n",
       "      <th>geo_precision</th>\n",
       "      <th>1</th>\n",
       "      <th>2</th>\n",
       "      <th>3</th>\n",
       "      <th>1</th>\n",
       "      <th>1</th>\n",
       "      <th>1</th>\n",
       "      <th>1</th>\n",
       "      <th>1</th>\n",
       "      <th>2</th>\n",
       "      <th>3</th>\n",
       "      <th>1</th>\n",
       "      <th>1</th>\n",
       "      <th>2</th>\n",
       "    </tr>\n",
       "    <tr>\n",
       "      <th>event_type</th>\n",
       "      <th></th>\n",
       "      <th></th>\n",
       "      <th></th>\n",
       "      <th></th>\n",
       "      <th></th>\n",
       "      <th></th>\n",
       "      <th></th>\n",
       "      <th></th>\n",
       "      <th></th>\n",
       "      <th></th>\n",
       "      <th></th>\n",
       "      <th></th>\n",
       "      <th></th>\n",
       "    </tr>\n",
       "  </thead>\n",
       "  <tbody>\n",
       "    <tr>\n",
       "      <th>Battles</th>\n",
       "      <td>3</td>\n",
       "      <td>0</td>\n",
       "      <td>0</td>\n",
       "      <td>0</td>\n",
       "      <td>0</td>\n",
       "      <td>2</td>\n",
       "      <td>3</td>\n",
       "      <td>27</td>\n",
       "      <td>4</td>\n",
       "      <td>0</td>\n",
       "      <td>0</td>\n",
       "      <td>0</td>\n",
       "      <td>0</td>\n",
       "    </tr>\n",
       "    <tr>\n",
       "      <th>Explosions/Remote violence</th>\n",
       "      <td>0</td>\n",
       "      <td>0</td>\n",
       "      <td>0</td>\n",
       "      <td>0</td>\n",
       "      <td>0</td>\n",
       "      <td>0</td>\n",
       "      <td>0</td>\n",
       "      <td>1</td>\n",
       "      <td>0</td>\n",
       "      <td>0</td>\n",
       "      <td>0</td>\n",
       "      <td>0</td>\n",
       "      <td>0</td>\n",
       "    </tr>\n",
       "    <tr>\n",
       "      <th>Protests</th>\n",
       "      <td>0</td>\n",
       "      <td>1</td>\n",
       "      <td>0</td>\n",
       "      <td>1</td>\n",
       "      <td>7</td>\n",
       "      <td>2</td>\n",
       "      <td>2</td>\n",
       "      <td>77</td>\n",
       "      <td>3</td>\n",
       "      <td>1</td>\n",
       "      <td>12</td>\n",
       "      <td>35</td>\n",
       "      <td>1</td>\n",
       "    </tr>\n",
       "    <tr>\n",
       "      <th>Riots</th>\n",
       "      <td>0</td>\n",
       "      <td>0</td>\n",
       "      <td>0</td>\n",
       "      <td>0</td>\n",
       "      <td>0</td>\n",
       "      <td>0</td>\n",
       "      <td>0</td>\n",
       "      <td>16</td>\n",
       "      <td>3</td>\n",
       "      <td>0</td>\n",
       "      <td>1</td>\n",
       "      <td>0</td>\n",
       "      <td>0</td>\n",
       "    </tr>\n",
       "    <tr>\n",
       "      <th>Strategic developments</th>\n",
       "      <td>2</td>\n",
       "      <td>0</td>\n",
       "      <td>1</td>\n",
       "      <td>0</td>\n",
       "      <td>0</td>\n",
       "      <td>0</td>\n",
       "      <td>2</td>\n",
       "      <td>5</td>\n",
       "      <td>2</td>\n",
       "      <td>2</td>\n",
       "      <td>1</td>\n",
       "      <td>0</td>\n",
       "      <td>0</td>\n",
       "    </tr>\n",
       "    <tr>\n",
       "      <th>Violence against civilians</th>\n",
       "      <td>1</td>\n",
       "      <td>0</td>\n",
       "      <td>0</td>\n",
       "      <td>0</td>\n",
       "      <td>0</td>\n",
       "      <td>6</td>\n",
       "      <td>8</td>\n",
       "      <td>112</td>\n",
       "      <td>18</td>\n",
       "      <td>1</td>\n",
       "      <td>2</td>\n",
       "      <td>3</td>\n",
       "      <td>0</td>\n",
       "    </tr>\n",
       "  </tbody>\n",
       "</table>\n",
       "</div>"
      ],
      "text/plain": [
       "country                    Belize       Costa Rica El Salvador Guatemala Honduras Mexico        Nicaragua Panama   \n",
       "geo_precision                   1  2  3          1           1         1        1      1   2  3         1      1  2\n",
       "event_type                                                                                                         \n",
       "Battles                         3  0  0          0           0         2        3     27   4  0         0      0  0\n",
       "Explosions/Remote violence      0  0  0          0           0         0        0      1   0  0         0      0  0\n",
       "Protests                        0  1  0          1           7         2        2     77   3  1        12     35  1\n",
       "Riots                           0  0  0          0           0         0        0     16   3  0         1      0  0\n",
       "Strategic developments          2  0  1          0           0         0        2      5   2  2         1      0  0\n",
       "Violence against civilians      1  0  0          0           0         6        8    112  18  1         2      3  0"
      ]
     },
     "execution_count": 57,
     "metadata": {},
     "output_type": "execute_result"
    }
   ],
   "source": [
    "df_country_events = pd.crosstab(df['event_type'],\n",
    "                                [df['country'],df['geo_precision']])\n",
    "df_country_events"
   ]
  },
  {
   "cell_type": "markdown",
   "metadata": {},
   "source": [
    "- We can add in the other options again to improve the view, or normalize the data"
   ]
  },
  {
   "cell_type": "code",
   "execution_count": 58,
   "metadata": {},
   "outputs": [
    {
     "data": {
      "text/html": [
       "<div>\n",
       "<style scoped>\n",
       "    .dataframe tbody tr th:only-of-type {\n",
       "        vertical-align: middle;\n",
       "    }\n",
       "\n",
       "    .dataframe tbody tr th {\n",
       "        vertical-align: top;\n",
       "    }\n",
       "\n",
       "    .dataframe thead tr th {\n",
       "        text-align: left;\n",
       "    }\n",
       "\n",
       "    .dataframe thead tr:last-of-type th {\n",
       "        text-align: right;\n",
       "    }\n",
       "</style>\n",
       "<table border=\"1\" class=\"dataframe\">\n",
       "  <thead>\n",
       "    <tr>\n",
       "      <th>country</th>\n",
       "      <th colspan=\"3\" halign=\"left\">Belize</th>\n",
       "      <th colspan=\"3\" halign=\"left\">Costa Rica</th>\n",
       "      <th colspan=\"3\" halign=\"left\">El Salvador</th>\n",
       "      <th colspan=\"3\" halign=\"left\">Guatemala</th>\n",
       "      <th colspan=\"3\" halign=\"left\">Honduras</th>\n",
       "      <th colspan=\"3\" halign=\"left\">Mexico</th>\n",
       "      <th colspan=\"3\" halign=\"left\">Nicaragua</th>\n",
       "      <th colspan=\"3\" halign=\"left\">Panama</th>\n",
       "      <th>Total</th>\n",
       "    </tr>\n",
       "    <tr>\n",
       "      <th>geo_precision</th>\n",
       "      <th>1</th>\n",
       "      <th>2</th>\n",
       "      <th>3</th>\n",
       "      <th>1</th>\n",
       "      <th>2</th>\n",
       "      <th>3</th>\n",
       "      <th>1</th>\n",
       "      <th>2</th>\n",
       "      <th>3</th>\n",
       "      <th>1</th>\n",
       "      <th>2</th>\n",
       "      <th>3</th>\n",
       "      <th>1</th>\n",
       "      <th>2</th>\n",
       "      <th>3</th>\n",
       "      <th>1</th>\n",
       "      <th>2</th>\n",
       "      <th>3</th>\n",
       "      <th>1</th>\n",
       "      <th>2</th>\n",
       "      <th>3</th>\n",
       "      <th>1</th>\n",
       "      <th>2</th>\n",
       "      <th>3</th>\n",
       "      <th></th>\n",
       "    </tr>\n",
       "    <tr>\n",
       "      <th>event_type</th>\n",
       "      <th></th>\n",
       "      <th></th>\n",
       "      <th></th>\n",
       "      <th></th>\n",
       "      <th></th>\n",
       "      <th></th>\n",
       "      <th></th>\n",
       "      <th></th>\n",
       "      <th></th>\n",
       "      <th></th>\n",
       "      <th></th>\n",
       "      <th></th>\n",
       "      <th></th>\n",
       "      <th></th>\n",
       "      <th></th>\n",
       "      <th></th>\n",
       "      <th></th>\n",
       "      <th></th>\n",
       "      <th></th>\n",
       "      <th></th>\n",
       "      <th></th>\n",
       "      <th></th>\n",
       "      <th></th>\n",
       "      <th></th>\n",
       "      <th></th>\n",
       "    </tr>\n",
       "  </thead>\n",
       "  <tbody>\n",
       "    <tr>\n",
       "      <th>Battles</th>\n",
       "      <td>3</td>\n",
       "      <td>0</td>\n",
       "      <td>0</td>\n",
       "      <td>0</td>\n",
       "      <td>0</td>\n",
       "      <td>0</td>\n",
       "      <td>0</td>\n",
       "      <td>0</td>\n",
       "      <td>0</td>\n",
       "      <td>2</td>\n",
       "      <td>0</td>\n",
       "      <td>0</td>\n",
       "      <td>3</td>\n",
       "      <td>0</td>\n",
       "      <td>0</td>\n",
       "      <td>27</td>\n",
       "      <td>4</td>\n",
       "      <td>0</td>\n",
       "      <td>0</td>\n",
       "      <td>0</td>\n",
       "      <td>0</td>\n",
       "      <td>0</td>\n",
       "      <td>0</td>\n",
       "      <td>0</td>\n",
       "      <td>39</td>\n",
       "    </tr>\n",
       "    <tr>\n",
       "      <th>Explosions/Remote violence</th>\n",
       "      <td>0</td>\n",
       "      <td>0</td>\n",
       "      <td>0</td>\n",
       "      <td>0</td>\n",
       "      <td>0</td>\n",
       "      <td>0</td>\n",
       "      <td>0</td>\n",
       "      <td>0</td>\n",
       "      <td>0</td>\n",
       "      <td>0</td>\n",
       "      <td>0</td>\n",
       "      <td>0</td>\n",
       "      <td>0</td>\n",
       "      <td>0</td>\n",
       "      <td>0</td>\n",
       "      <td>1</td>\n",
       "      <td>0</td>\n",
       "      <td>0</td>\n",
       "      <td>0</td>\n",
       "      <td>0</td>\n",
       "      <td>0</td>\n",
       "      <td>0</td>\n",
       "      <td>0</td>\n",
       "      <td>0</td>\n",
       "      <td>1</td>\n",
       "    </tr>\n",
       "    <tr>\n",
       "      <th>Protests</th>\n",
       "      <td>0</td>\n",
       "      <td>1</td>\n",
       "      <td>0</td>\n",
       "      <td>1</td>\n",
       "      <td>0</td>\n",
       "      <td>0</td>\n",
       "      <td>7</td>\n",
       "      <td>0</td>\n",
       "      <td>0</td>\n",
       "      <td>2</td>\n",
       "      <td>0</td>\n",
       "      <td>0</td>\n",
       "      <td>2</td>\n",
       "      <td>0</td>\n",
       "      <td>0</td>\n",
       "      <td>77</td>\n",
       "      <td>3</td>\n",
       "      <td>1</td>\n",
       "      <td>12</td>\n",
       "      <td>0</td>\n",
       "      <td>0</td>\n",
       "      <td>35</td>\n",
       "      <td>1</td>\n",
       "      <td>0</td>\n",
       "      <td>142</td>\n",
       "    </tr>\n",
       "    <tr>\n",
       "      <th>Riots</th>\n",
       "      <td>0</td>\n",
       "      <td>0</td>\n",
       "      <td>0</td>\n",
       "      <td>0</td>\n",
       "      <td>0</td>\n",
       "      <td>0</td>\n",
       "      <td>0</td>\n",
       "      <td>0</td>\n",
       "      <td>0</td>\n",
       "      <td>0</td>\n",
       "      <td>0</td>\n",
       "      <td>0</td>\n",
       "      <td>0</td>\n",
       "      <td>0</td>\n",
       "      <td>0</td>\n",
       "      <td>16</td>\n",
       "      <td>3</td>\n",
       "      <td>0</td>\n",
       "      <td>1</td>\n",
       "      <td>0</td>\n",
       "      <td>0</td>\n",
       "      <td>0</td>\n",
       "      <td>0</td>\n",
       "      <td>0</td>\n",
       "      <td>20</td>\n",
       "    </tr>\n",
       "    <tr>\n",
       "      <th>Strategic developments</th>\n",
       "      <td>2</td>\n",
       "      <td>0</td>\n",
       "      <td>1</td>\n",
       "      <td>0</td>\n",
       "      <td>0</td>\n",
       "      <td>0</td>\n",
       "      <td>0</td>\n",
       "      <td>0</td>\n",
       "      <td>0</td>\n",
       "      <td>0</td>\n",
       "      <td>0</td>\n",
       "      <td>0</td>\n",
       "      <td>2</td>\n",
       "      <td>0</td>\n",
       "      <td>0</td>\n",
       "      <td>5</td>\n",
       "      <td>2</td>\n",
       "      <td>2</td>\n",
       "      <td>1</td>\n",
       "      <td>0</td>\n",
       "      <td>0</td>\n",
       "      <td>0</td>\n",
       "      <td>0</td>\n",
       "      <td>0</td>\n",
       "      <td>15</td>\n",
       "    </tr>\n",
       "    <tr>\n",
       "      <th>Violence against civilians</th>\n",
       "      <td>1</td>\n",
       "      <td>0</td>\n",
       "      <td>0</td>\n",
       "      <td>0</td>\n",
       "      <td>0</td>\n",
       "      <td>0</td>\n",
       "      <td>0</td>\n",
       "      <td>0</td>\n",
       "      <td>0</td>\n",
       "      <td>6</td>\n",
       "      <td>0</td>\n",
       "      <td>0</td>\n",
       "      <td>8</td>\n",
       "      <td>0</td>\n",
       "      <td>0</td>\n",
       "      <td>112</td>\n",
       "      <td>18</td>\n",
       "      <td>1</td>\n",
       "      <td>2</td>\n",
       "      <td>0</td>\n",
       "      <td>0</td>\n",
       "      <td>3</td>\n",
       "      <td>0</td>\n",
       "      <td>0</td>\n",
       "      <td>151</td>\n",
       "    </tr>\n",
       "    <tr>\n",
       "      <th>Total</th>\n",
       "      <td>6</td>\n",
       "      <td>1</td>\n",
       "      <td>1</td>\n",
       "      <td>1</td>\n",
       "      <td>0</td>\n",
       "      <td>0</td>\n",
       "      <td>7</td>\n",
       "      <td>0</td>\n",
       "      <td>0</td>\n",
       "      <td>10</td>\n",
       "      <td>0</td>\n",
       "      <td>0</td>\n",
       "      <td>15</td>\n",
       "      <td>0</td>\n",
       "      <td>0</td>\n",
       "      <td>238</td>\n",
       "      <td>30</td>\n",
       "      <td>4</td>\n",
       "      <td>16</td>\n",
       "      <td>0</td>\n",
       "      <td>0</td>\n",
       "      <td>38</td>\n",
       "      <td>1</td>\n",
       "      <td>0</td>\n",
       "      <td>368</td>\n",
       "    </tr>\n",
       "  </tbody>\n",
       "</table>\n",
       "</div>"
      ],
      "text/plain": [
       "country                    Belize       Costa Rica       El Salvador       Guatemala       Honduras       Mexico        Nicaragua       Panama       Total\n",
       "geo_precision                   1  2  3          1  2  3           1  2  3         1  2  3        1  2  3      1   2  3         1  2  3      1  2  3      \n",
       "event_type                                                                                                                                                \n",
       "Battles                         3  0  0          0  0  0           0  0  0         2  0  0        3  0  0     27   4  0         0  0  0      0  0  0    39\n",
       "Explosions/Remote violence      0  0  0          0  0  0           0  0  0         0  0  0        0  0  0      1   0  0         0  0  0      0  0  0     1\n",
       "Protests                        0  1  0          1  0  0           7  0  0         2  0  0        2  0  0     77   3  1        12  0  0     35  1  0   142\n",
       "Riots                           0  0  0          0  0  0           0  0  0         0  0  0        0  0  0     16   3  0         1  0  0      0  0  0    20\n",
       "Strategic developments          2  0  1          0  0  0           0  0  0         0  0  0        2  0  0      5   2  2         1  0  0      0  0  0    15\n",
       "Violence against civilians      1  0  0          0  0  0           0  0  0         6  0  0        8  0  0    112  18  1         2  0  0      3  0  0   151\n",
       "Total                           6  1  1          1  0  0           7  0  0        10  0  0       15  0  0    238  30  4        16  0  0     38  1  0   368"
      ]
     },
     "execution_count": 58,
     "metadata": {},
     "output_type": "execute_result"
    }
   ],
   "source": [
    "df_country_events = pd.crosstab(df['event_type'],\n",
    "                                [df['country'],df['geo_precision']],\n",
    "                                margins=True,\n",
    "                                margins_name=\"Total\",\n",
    "                                dropna=False,\n",
    "                                #normalize='columns'\n",
    "                               ).round(4)\n",
    "#,margins=True,margins_name=\"Total\",dropna=False,normalize=True).round(4)                                  \n",
    "#normalize=True\n",
    "#normalize='columns'\n",
    "#normalize='index'\n",
    "df_country_events"
   ]
  },
  {
   "cell_type": "markdown",
   "metadata": {},
   "source": [
    "### Visualize a Crosstab with Seaborn Heatmap"
   ]
  },
  {
   "cell_type": "code",
   "execution_count": 59,
   "metadata": {},
   "outputs": [],
   "source": [
    "country_ctab = pd.crosstab(df['event_type'], [df['country'],df['geo_precision']])"
   ]
  },
  {
   "cell_type": "code",
   "execution_count": 61,
   "metadata": {},
   "outputs": [
    {
     "data": {
      "text/plain": [
       "<matplotlib.axes._subplots.AxesSubplot at 0x1739b849d08>"
      ]
     },
     "execution_count": 61,
     "metadata": {},
     "output_type": "execute_result"
    },
    {
     "data": {
      "image/png": "[encoded data removed]",
      "text/plain": [
       "<Figure size 432x288 with 2 Axes>"
      ]
     },
     "metadata": {
      "needs_background": "light"
     },
     "output_type": "display_data"
    }
   ],
   "source": [
    "sns.heatmap(country_ctab,cmap=\"YlGnBu\", annot=True, fmt='d', cbar=True)"
   ]
  },
  {
   "cell_type": "code",
   "execution_count": 62,
   "metadata": {},
   "outputs": [
    {
     "data": {
      "text/plain": [
       "<matplotlib.axes._subplots.AxesSubplot at 0x173994eff88>"
      ]
     },
     "execution_count": 62,
     "metadata": {},
     "output_type": "execute_result"
    },
    {
     "data": {
      "image/png": "[encoded data removed]",
      "text/plain": [
       "<Figure size 432x288 with 1 Axes>"
      ]
     },
     "metadata": {
      "needs_background": "light"
     },
     "output_type": "display_data"
    }
   ],
   "source": [
    "cmap = sns.light_palette(\"blue\", as_cmap=True)\n",
    "sns.heatmap(country_ctab,cmap=cmap, mask=country_ctab<1, annot=True, fmt='d', cbar=False)"
   ]
  },
  {
   "cell_type": "markdown",
   "metadata": {},
   "source": [
    "#### Additional information about CrossTab and Seaborn\n",
    "- https://pbpython.com/pandas-crosstab.html\n",
    "- https://learn.datacamp.com/courses/data-visualization-with-seaborn"
   ]
  },
  {
   "cell_type": "code",
   "execution_count": 235,
   "metadata": {},
   "outputs": [
    {
     "data": {
      "text/plain": [
       "<seaborn.axisgrid.PairGrid at 0x21661e80308>"
      ]
     },
     "execution_count": 235,
     "metadata": {},
     "output_type": "execute_result"
    },
    {
     "data": {
      "image/png": "[encoded data removed]",
      "text/plain": [
       "<Figure size 720x720 with 20 Axes>"
      ]
     },
     "metadata": {
      "needs_background": "light"
     },
     "output_type": "display_data"
    }
   ],
   "source": [
    "sns.pairplot(df, vars=[\"country\",\"event_type\",\"fatalities\",\"actor1\"])"
   ]
  },
  {
   "cell_type": "markdown",
   "metadata": {},
   "source": [
    "# Analysis of Null Attributes/Levels of Nulls"
   ]
  },
  {
   "cell_type": "markdown",
   "metadata": {},
   "source": [
    "#### Use df.info() to see non-null counts and the type of the columns"
   ]
  },
  {
   "cell_type": "code",
   "execution_count": 65,
   "metadata": {},
   "outputs": [
    {
     "name": "stdout",
     "output_type": "stream",
     "text": [
      "<class 'pandas.core.frame.DataFrame'>\n",
      "RangeIndex: 368 entries, 0 to 367\n",
      "Data columns (total 31 columns):\n",
      " #   Column            Non-Null Count  Dtype  \n",
      "---  ------            --------------  -----  \n",
      " 0   data_id           368 non-null    int64  \n",
      " 1   iso               368 non-null    int64  \n",
      " 2   event_id_cnty     368 non-null    object \n",
      " 3   event_id_no_cnty  368 non-null    int64  \n",
      " 4   event_date        368 non-null    object \n",
      " 5   year              368 non-null    int64  \n",
      " 6   time_precision    368 non-null    int64  \n",
      " 7   event_type        368 non-null    object \n",
      " 8   sub_event_type    368 non-null    object \n",
      " 9   actor1            368 non-null    object \n",
      " 10  assoc_actor_1     98 non-null     object \n",
      " 11  inter1            368 non-null    int64  \n",
      " 12  actor2            218 non-null    object \n",
      " 13  assoc_actor_2     44 non-null     object \n",
      " 14  inter2            368 non-null    int64  \n",
      " 15  interaction       368 non-null    int64  \n",
      " 16  region            368 non-null    object \n",
      " 17  country           368 non-null    object \n",
      " 18  admin1            368 non-null    object \n",
      " 19  admin2            360 non-null    object \n",
      " 20  admin3            39 non-null     object \n",
      " 21  location          368 non-null    object \n",
      " 22  latitude          368 non-null    float64\n",
      " 23  longitude         368 non-null    float64\n",
      " 24  geo_precision     368 non-null    int64  \n",
      " 25  source            368 non-null    object \n",
      " 26  source_scale      368 non-null    object \n",
      " 27  notes             368 non-null    object \n",
      " 28  fatalities        368 non-null    int64  \n",
      " 29  timestamp         368 non-null    int64  \n",
      " 30  iso3              368 non-null    object \n",
      "dtypes: float64(2), int64(11), object(18)\n",
      "memory usage: 89.2+ KB\n"
     ]
    }
   ],
   "source": [
    "df.info()\n",
    "#df.count()"
   ]
  },
  {
   "cell_type": "markdown",
   "metadata": {},
   "source": [
    "#### Quick heatmap based off of nulls in DataFrame using df.isnull()"
   ]
  },
  {
   "cell_type": "code",
   "execution_count": 67,
   "metadata": {},
   "outputs": [],
   "source": [
    "#df.isnull()"
   ]
  },
  {
   "cell_type": "code",
   "execution_count": 68,
   "metadata": {},
   "outputs": [
    {
     "data": {
      "text/plain": [
       "<matplotlib.axes._subplots.AxesSubplot at 0x1739ba69c08>"
      ]
     },
     "execution_count": 68,
     "metadata": {},
     "output_type": "execute_result"
    },
    {
     "data": {
      "image/png": "[encoded data removed]",
      "text/plain": [
       "<Figure size 432x288 with 1 Axes>"
      ]
     },
     "metadata": {
      "needs_background": "light"
     },
     "output_type": "display_data"
    }
   ],
   "source": [
    "sns.heatmap(df.isnull(), cbar=False)"
   ]
  },
  {
   "cell_type": "markdown",
   "metadata": {},
   "source": [
    "#### Get the numbers for the column and create a plot\n",
    "- Using df.isnull() - we get a series\n",
    "- We can treat this the same as before"
   ]
  },
  {
   "cell_type": "code",
   "execution_count": 69,
   "metadata": {},
   "outputs": [
    {
     "data": {
      "text/plain": [
       "data_id               0\n",
       "iso                   0\n",
       "event_id_cnty         0\n",
       "event_id_no_cnty      0\n",
       "event_date            0\n",
       "year                  0\n",
       "time_precision        0\n",
       "event_type            0\n",
       "sub_event_type        0\n",
       "actor1                0\n",
       "assoc_actor_1       270\n",
       "inter1                0\n",
       "actor2              150\n",
       "assoc_actor_2       324\n",
       "inter2                0\n",
       "interaction           0\n",
       "region                0\n",
       "country               0\n",
       "admin1                0\n",
       "admin2                8\n",
       "admin3              329\n",
       "location              0\n",
       "latitude              0\n",
       "longitude             0\n",
       "geo_precision         0\n",
       "source                0\n",
       "source_scale          0\n",
       "notes                 0\n",
       "fatalities            0\n",
       "timestamp             0\n",
       "iso3                  0\n",
       "dtype: int64"
      ]
     },
     "execution_count": 69,
     "metadata": {},
     "output_type": "execute_result"
    }
   ],
   "source": [
    "null_count = df.isnull().sum()\n",
    "null_count\n",
    "#type(null_count)"
   ]
  },
  {
   "cell_type": "code",
   "execution_count": 70,
   "metadata": {},
   "outputs": [
    {
     "data": {
      "text/plain": [
       "admin3           329\n",
       "assoc_actor_2    324\n",
       "assoc_actor_1    270\n",
       "actor2           150\n",
       "admin2             8\n",
       "dtype: int64"
      ]
     },
     "execution_count": 70,
     "metadata": {},
     "output_type": "execute_result"
    }
   ],
   "source": [
    "null_count = null_count[null_count.values > 0].sort_values(ascending=False)\n",
    "null_count"
   ]
  },
  {
   "cell_type": "code",
   "execution_count": 71,
   "metadata": {},
   "outputs": [
    {
     "data": {
      "text/plain": [
       "<matplotlib.axes._subplots.AxesSubplot at 0x1739bb322c8>"
      ]
     },
     "execution_count": 71,
     "metadata": {},
     "output_type": "execute_result"
    },
    {
     "data": {
      "image/png": "[encoded data removed]",
      "text/plain": [
       "<Figure size 432x288 with 1 Axes>"
      ]
     },
     "metadata": {
      "needs_background": "light"
     },
     "output_type": "display_data"
    }
   ],
   "source": [
    "sns.barplot(null_count.index, null_count.values)"
   ]
  },
  {
   "cell_type": "markdown",
   "metadata": {},
   "source": [
    "#### Helpful cell to track all of your variables"
   ]
  },
  {
   "cell_type": "code",
   "execution_count": 72,
   "metadata": {},
   "outputs": [
    {
     "name": "stdout",
     "output_type": "stream",
     "text": [
      "cmap\t count\t country_ctab\t date_output\t dates_filtered\t dates_mean\t dates_series\t dates_std\t deaths\t \n",
      "df\t df_country_events\t df_precision_events\t gbdates_df\t groupby_test\t index\t mean\t np\t null_count\t \n",
      "path\t pd\t pivot_test\t sns\t start_time\t std\t std_high\t std_low\t time\t \n",
      "\n"
     ]
    }
   ],
   "source": [
    "%who"
   ]
  },
  {
   "cell_type": "markdown",
   "metadata": {},
   "source": [
    "# End Michael Additions"
   ]
  },
  {
   "cell_type": "markdown",
   "metadata": {},
   "source": [
    "# Paired Attributes"
   ]
  },
  {
   "cell_type": "code",
   "execution_count": null,
   "metadata": {},
   "outputs": [],
   "source": [
    "#TO DO\n",
    "#Analysis of paired attributes\n",
    "#pair one: event type and geo-precision\n",
    "#pair two: sub-event type and geo-precision\n",
    "#pair three: event type and sub-event type\n",
    "#pair four: actor1 and event type\n",
    "#pair five: actor1 and sub-event type"
   ]
  },
  {
   "cell_type": "markdown",
   "metadata": {},
   "source": [
    "# By Country Analysis - Mexico"
   ]
  },
  {
   "cell_type": "code",
   "execution_count": null,
   "metadata": {},
   "outputs": [],
   "source": [
    "#mexico analysis - create the dataframe\n",
    "df_mexico = df[df.country=='Mexico']"
   ]
  },
  {
   "cell_type": "code",
   "execution_count": null,
   "metadata": {},
   "outputs": [],
   "source": [
    "#Count of events by day in Mexico\n",
    "df_datesMex = df_mexico.groupby('event_date')['data_id'].count()\n",
    "#df_datesMex\n",
    "df_dates.to_csv(r'C:/Users/Caitlin/OneDrive/ACLED_CentralAmerica/DataVisFiles/CountOfEventsDayMexico.csv') #export csv from df\n",
    "#TO DO\n",
    "#Find way to calculate which days have no records (maybe use a sort by date)"
   ]
  },
  {
   "cell_type": "code",
   "execution_count": null,
   "metadata": {},
   "outputs": [],
   "source": [
    "#find dates that are not \"normal\" i.e. are outside of the mean +/- 2 times the standard deviation\n",
    "#prints a list of dates and number of events for Mexico dataset specifically\n",
    "meanMex = df_datesMex.mean()\n",
    "stdMex = np.std(df_datesMex)\n",
    "\n",
    "for count, index in zip(df_datesMex, df_datesMex.index):\n",
    "    # If the value for the date is less than the mean - 2 times the standard deviation or more than the mean + 2 time the std\n",
    "    if count < (meanMex - 2*stdMex) or count > (meanMex + 2*std):\n",
    "        print(str(index).split(\" \")[0], count)"
   ]
  },
  {
   "cell_type": "code",
   "execution_count": null,
   "metadata": {},
   "outputs": [],
   "source": [
    "#count of each event type for Mexico\n",
    "df_eventTypeMex = df_mexico.groupby('event_type')['data_id'].count()\n",
    "df_eventTypeMex\n",
    "#TO DO\n",
    "#Add column with percent of Mexico dataset"
   ]
  },
  {
   "cell_type": "code",
   "execution_count": null,
   "metadata": {
    "scrolled": true
   },
   "outputs": [],
   "source": [
    "#count of each sub event type for Mexico\n",
    "df_subEventTypeMex = df_mexico.groupby('sub_event_type')['data_id'].count()\n",
    "df_subEventTypeMex\n",
    "#TO DO\n",
    "#Add column with percent of Mexico dataset"
   ]
  }
 ],
 "metadata": {
  "kernelspec": {
   "display_name": "Python 3",
   "language": "python",
   "name": "python3"
  },
  "language_info": {
   "codemirror_mode": {
    "name": "ipython",
    "version": 3
   },
   "file_extension": ".py",
   "mimetype": "text/x-python",
   "name": "python",
   "nbconvert_exporter": "python",
   "pygments_lexer": "ipython3",
   "version": "3.7.6"
  }
 },
 "nbformat": 4,
 "nbformat_minor": 4
}
